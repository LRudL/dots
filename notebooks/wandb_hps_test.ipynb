{
 "cells": [
  {
   "cell_type": "code",
   "execution_count": 2,
   "metadata": {},
   "outputs": [
    {
     "name": "stdout",
     "output_type": "stream",
     "text": [
      "The autoreload extension is already loaded. To reload it, use:\n",
      "  %reload_ext autoreload\n"
     ]
    }
   ],
   "source": [
    "%load_ext autoreload\n",
    "%autoreload 2\n",
    "import sys\n",
    "sys.path.append(\"..\")\n",
    "\n",
    "import wandb\n",
    "\n",
    "from dots.experiment import run_experiment, get_model, get_optimiser, get_loss_fn, run_sweep\n",
    "from dots.utils import *"
   ]
  },
  {
   "cell_type": "code",
   "execution_count": 3,
   "metadata": {},
   "outputs": [],
   "source": [
    "import wandb\n",
    "import torch as t\n",
    "import torch.utils.data as tdata\n",
    "from dots.training import train, TrainState\n",
    "from dots.utils import range_batch, get_device\n",
    "from dots.datasets import get_dataset\n",
    "from dots.models import *"
   ]
  },
  {
   "cell_type": "code",
   "execution_count": 4,
   "metadata": {},
   "outputs": [],
   "source": [
    "config = {\n",
    "    \"model_class\": \"MLP\",\n",
    "    \"model\": {\n",
    "        \"in_size\": 1,\n",
    "        \"hidden\": [10],\n",
    "        \"out_size\": 1,\n",
    "        \"bias\": True\n",
    "    },\n",
    "    \"hp\": {\n",
    "        \"optimiser\": \"Adam\",\n",
    "        \"optimiser_args\" : {\n",
    "            \"lr\": 0.001\n",
    "        },\n",
    "        \"loss_fn\": \"MSELoss\",\n",
    "        \"epochs\": 10,\n",
    "        \"batch_size\": 16\n",
    "    },\n",
    "    \"dataset\": {\n",
    "        \"name\": \"relu\",\n",
    "        \"train_test_val_split\": [0.8, 0.1, 0.1]\n",
    "    }\n",
    "}\n",
    "\n",
    "sweep = {\n",
    "    'method': 'grid',\n",
    "    'name': 'test_sweep',\n",
    "    'metric': {\n",
    "        'goal': 'minimize',\n",
    "        'name': 'test_loss'\n",
    "    },\n",
    "    'parameters': {\n",
    "        \"hp\": {\n",
    "            \"parameters\": {\n",
    "                \"optimiser\": {\"values\": [\"Adam\"]},\n",
    "                \"epochs\": {\"values\": [10]},\n",
    "                \"batch_size\": {\"values\": [16]}\n",
    "            },\n",
    "            \"optimiser_args\" : {\n",
    "                \"parameters\": {\n",
    "                    \"lr\": {\"values\": [0.001, 0.01, 0.1]}\n",
    "                }\n",
    "            }\n",
    "        }\n",
    "    }\n",
    "}\n",
    "\n",
    "sweep2 = {\n",
    "    'method': 'grid',\n",
    "    'name': 'test_sweep',\n",
    "    'metric': {\n",
    "        'goal': 'minimize',\n",
    "        'name': 'val_loss'\n",
    "    },\n",
    "    'parameters': {\n",
    "        \"hp.optimiser\": {\"values\": [\"Adam\"]},\n",
    "        \"hp.optimiser_args.lr\" : {\"values\": [0.001, 0.01, 0.1]},\n",
    "        \"hp.epochs\": {\"values\": [10]},\n",
    "        \"hp.batch_size\": {\"values\": [16]}\n",
    "    }\n",
    "}\n",
    "\n",
    "sweep_config = {\n",
    "    \"method\": \"grid\",\n",
    "    \"parameters\": {\n",
    "        \"learning_rate\": {\"values\": [0.001, 0.01, 0.1]},\n",
    "        \"optimizer\": {\n",
    "            \"name\": [\"Adam\", \"SGD\"],\n",
    "            \"learning_rate\": {\"Adam\": [0.001, 0.01, 0.1], \"SGD\": [0.01, 0.1, 1.0]}\n",
    "        }\n",
    "    }\n",
    "}\n"
   ]
  },
  {
   "cell_type": "code",
   "execution_count": 5,
   "metadata": {},
   "outputs": [
    {
     "name": "stderr",
     "output_type": "stream",
     "text": [
      "Failed to detect the name of this notebook, you can set it manually with the WANDB_NOTEBOOK_NAME environment variable to enable code saving.\n",
      "\u001b[34m\u001b[1mwandb\u001b[0m: Network error (ReadTimeout), entering retry loop.\n"
     ]
    },
    {
     "name": "stdout",
     "output_type": "stream",
     "text": [
      "Create sweep with ID: aim6gxmc\n",
      "Sweep URL: https://wandb.ai/lrudl/DOTS/sweeps/aim6gxmc\n"
     ]
    },
    {
     "name": "stderr",
     "output_type": "stream",
     "text": [
      "\u001b[34m\u001b[1mwandb\u001b[0m: Agent Starting Run: rrydho1r with config:\n",
      "\u001b[34m\u001b[1mwandb\u001b[0m: \thp.batch_size: 16\n",
      "\u001b[34m\u001b[1mwandb\u001b[0m: \thp.epochs: 10\n",
      "\u001b[34m\u001b[1mwandb\u001b[0m: \thp.optimiser: Adam\n",
      "\u001b[34m\u001b[1mwandb\u001b[0m: \thp.optimiser_args.lr: 0.001\n",
      "Failed to detect the name of this notebook, you can set it manually with the WANDB_NOTEBOOK_NAME environment variable to enable code saving.\n",
      "\u001b[34m\u001b[1mwandb\u001b[0m: Currently logged in as: \u001b[33mlrudl\u001b[0m. Use \u001b[1m`wandb login --relogin`\u001b[0m to force relogin\n",
      "\u001b[34m\u001b[1mwandb\u001b[0m: \u001b[33mWARNING\u001b[0m Ignored wandb.init() arg project when running a sweep.\n"
     ]
    },
    {
     "data": {
      "application/vnd.jupyter.widget-view+json": {
       "model_id": "3afbc349c06048e3a33705bd47b00fd1",
       "version_major": 2,
       "version_minor": 0
      },
      "text/plain": [
       "VBox(children=(Label(value='Waiting for wandb.init()...\\r'), FloatProgress(value=0.016668948183360045, max=1.0…"
      ]
     },
     "metadata": {},
     "output_type": "display_data"
    },
    {
     "data": {
      "text/html": [
       "Tracking run with wandb version 0.15.2"
      ],
      "text/plain": [
       "<IPython.core.display.HTML object>"
      ]
     },
     "metadata": {},
     "output_type": "display_data"
    },
    {
     "data": {
      "text/html": [
       "Run data is saved locally in <code>/home/lrudl/Dropbox/Rudolf/Cambridge/22-23/dots/dots/notebooks/wandb/run-20230510_144817-rrydho1r</code>"
      ],
      "text/plain": [
       "<IPython.core.display.HTML object>"
      ]
     },
     "metadata": {},
     "output_type": "display_data"
    },
    {
     "data": {
      "text/html": [
       "Syncing run <strong><a href='https://wandb.ai/lrudl/DOTS/runs/rrydho1r' target=\"_blank\">zany-sweep-1</a></strong> to <a href='https://wandb.ai/lrudl/DOTS' target=\"_blank\">Weights & Biases</a> (<a href='https://wandb.me/run' target=\"_blank\">docs</a>)<br/>Sweep page: <a href='https://wandb.ai/lrudl/DOTS/sweeps/aim6gxmc' target=\"_blank\">https://wandb.ai/lrudl/DOTS/sweeps/aim6gxmc</a>"
      ],
      "text/plain": [
       "<IPython.core.display.HTML object>"
      ]
     },
     "metadata": {},
     "output_type": "display_data"
    },
    {
     "data": {
      "text/html": [
       " View project at <a href='https://wandb.ai/lrudl/DOTS' target=\"_blank\">https://wandb.ai/lrudl/DOTS</a>"
      ],
      "text/plain": [
       "<IPython.core.display.HTML object>"
      ]
     },
     "metadata": {},
     "output_type": "display_data"
    },
    {
     "data": {
      "text/html": [
       " View sweep at <a href='https://wandb.ai/lrudl/DOTS/sweeps/aim6gxmc' target=\"_blank\">https://wandb.ai/lrudl/DOTS/sweeps/aim6gxmc</a>"
      ],
      "text/plain": [
       "<IPython.core.display.HTML object>"
      ]
     },
     "metadata": {},
     "output_type": "display_data"
    },
    {
     "data": {
      "text/html": [
       " View run at <a href='https://wandb.ai/lrudl/DOTS/runs/rrydho1r' target=\"_blank\">https://wandb.ai/lrudl/DOTS/runs/rrydho1r</a>"
      ],
      "text/plain": [
       "<IPython.core.display.HTML object>"
      ]
     },
     "metadata": {},
     "output_type": "display_data"
    },
    {
     "data": {
      "text/html": [
       "Waiting for W&B process to finish... <strong style=\"color:red\">(failed 1).</strong> Press Control-C to abort syncing."
      ],
      "text/plain": [
       "<IPython.core.display.HTML object>"
      ]
     },
     "metadata": {},
     "output_type": "display_data"
    },
    {
     "data": {
      "application/vnd.jupyter.widget-view+json": {
       "model_id": "99046d7f32b74a728cd0516088701953",
       "version_major": 2,
       "version_minor": 0
      },
      "text/plain": [
       "VBox(children=(Label(value='0.000 MB of 0.012 MB uploaded (0.000 MB deduped)\\r'), FloatProgress(value=0.0, max…"
      ]
     },
     "metadata": {},
     "output_type": "display_data"
    },
    {
     "data": {
      "text/html": [
       " View run <strong style=\"color:#cdcd00\">zany-sweep-1</strong> at: <a href='https://wandb.ai/lrudl/DOTS/runs/rrydho1r' target=\"_blank\">https://wandb.ai/lrudl/DOTS/runs/rrydho1r</a><br/>Synced 5 W&B file(s), 0 media file(s), 0 artifact file(s) and 0 other file(s)"
      ],
      "text/plain": [
       "<IPython.core.display.HTML object>"
      ]
     },
     "metadata": {},
     "output_type": "display_data"
    },
    {
     "data": {
      "text/html": [
       "Find logs at: <code>./wandb/run-20230510_144817-rrydho1r/logs</code>"
      ],
      "text/plain": [
       "<IPython.core.display.HTML object>"
      ]
     },
     "metadata": {},
     "output_type": "display_data"
    },
    {
     "name": "stderr",
     "output_type": "stream",
     "text": [
      "Run rrydho1r errored: KeyError('dataset')\n",
      "\u001b[34m\u001b[1mwandb\u001b[0m: \u001b[32m\u001b[41mERROR\u001b[0m Run rrydho1r errored: KeyError('dataset')\n",
      "\u001b[34m\u001b[1mwandb\u001b[0m: Sweep Agent: Waiting for job.\n",
      "\u001b[34m\u001b[1mwandb\u001b[0m: Job received.\n",
      "\u001b[34m\u001b[1mwandb\u001b[0m: Agent Starting Run: l8al7zoj with config:\n",
      "\u001b[34m\u001b[1mwandb\u001b[0m: \thp.batch_size: 16\n",
      "\u001b[34m\u001b[1mwandb\u001b[0m: \thp.epochs: 10\n",
      "\u001b[34m\u001b[1mwandb\u001b[0m: \thp.optimiser: Adam\n",
      "\u001b[34m\u001b[1mwandb\u001b[0m: \thp.optimiser_args.lr: 0.01\n",
      "Failed to detect the name of this notebook, you can set it manually with the WANDB_NOTEBOOK_NAME environment variable to enable code saving.\n",
      "\u001b[34m\u001b[1mwandb\u001b[0m: \u001b[33mWARNING\u001b[0m Ignored wandb.init() arg project when running a sweep.\n"
     ]
    },
    {
     "data": {
      "text/html": [
       "Tracking run with wandb version 0.15.2"
      ],
      "text/plain": [
       "<IPython.core.display.HTML object>"
      ]
     },
     "metadata": {},
     "output_type": "display_data"
    },
    {
     "data": {
      "text/html": [
       "Run data is saved locally in <code>/home/lrudl/Dropbox/Rudolf/Cambridge/22-23/dots/dots/notebooks/wandb/run-20230510_144849-l8al7zoj</code>"
      ],
      "text/plain": [
       "<IPython.core.display.HTML object>"
      ]
     },
     "metadata": {},
     "output_type": "display_data"
    },
    {
     "data": {
      "text/html": [
       "Syncing run <strong><a href='https://wandb.ai/lrudl/DOTS/runs/l8al7zoj' target=\"_blank\">balmy-sweep-2</a></strong> to <a href='https://wandb.ai/lrudl/DOTS' target=\"_blank\">Weights & Biases</a> (<a href='https://wandb.me/run' target=\"_blank\">docs</a>)<br/>Sweep page: <a href='https://wandb.ai/lrudl/DOTS/sweeps/aim6gxmc' target=\"_blank\">https://wandb.ai/lrudl/DOTS/sweeps/aim6gxmc</a>"
      ],
      "text/plain": [
       "<IPython.core.display.HTML object>"
      ]
     },
     "metadata": {},
     "output_type": "display_data"
    },
    {
     "data": {
      "text/html": [
       " View project at <a href='https://wandb.ai/lrudl/DOTS' target=\"_blank\">https://wandb.ai/lrudl/DOTS</a>"
      ],
      "text/plain": [
       "<IPython.core.display.HTML object>"
      ]
     },
     "metadata": {},
     "output_type": "display_data"
    },
    {
     "data": {
      "text/html": [
       " View sweep at <a href='https://wandb.ai/lrudl/DOTS/sweeps/aim6gxmc' target=\"_blank\">https://wandb.ai/lrudl/DOTS/sweeps/aim6gxmc</a>"
      ],
      "text/plain": [
       "<IPython.core.display.HTML object>"
      ]
     },
     "metadata": {},
     "output_type": "display_data"
    },
    {
     "data": {
      "text/html": [
       " View run at <a href='https://wandb.ai/lrudl/DOTS/runs/l8al7zoj' target=\"_blank\">https://wandb.ai/lrudl/DOTS/runs/l8al7zoj</a>"
      ],
      "text/plain": [
       "<IPython.core.display.HTML object>"
      ]
     },
     "metadata": {},
     "output_type": "display_data"
    },
    {
     "data": {
      "text/html": [
       "Waiting for W&B process to finish... <strong style=\"color:red\">(failed 1).</strong> Press Control-C to abort syncing."
      ],
      "text/plain": [
       "<IPython.core.display.HTML object>"
      ]
     },
     "metadata": {},
     "output_type": "display_data"
    },
    {
     "data": {
      "application/vnd.jupyter.widget-view+json": {
       "model_id": "5a179e050ebb40c5a63e6f56c074066e",
       "version_major": 2,
       "version_minor": 0
      },
      "text/plain": [
       "VBox(children=(Label(value='0.002 MB of 0.010 MB uploaded (0.000 MB deduped)\\r'), FloatProgress(value=0.181417…"
      ]
     },
     "metadata": {},
     "output_type": "display_data"
    },
    {
     "data": {
      "text/html": [
       " View run <strong style=\"color:#cdcd00\">balmy-sweep-2</strong> at: <a href='https://wandb.ai/lrudl/DOTS/runs/l8al7zoj' target=\"_blank\">https://wandb.ai/lrudl/DOTS/runs/l8al7zoj</a><br/>Synced 5 W&B file(s), 0 media file(s), 0 artifact file(s) and 0 other file(s)"
      ],
      "text/plain": [
       "<IPython.core.display.HTML object>"
      ]
     },
     "metadata": {},
     "output_type": "display_data"
    },
    {
     "data": {
      "text/html": [
       "Find logs at: <code>./wandb/run-20230510_144849-l8al7zoj/logs</code>"
      ],
      "text/plain": [
       "<IPython.core.display.HTML object>"
      ]
     },
     "metadata": {},
     "output_type": "display_data"
    },
    {
     "name": "stderr",
     "output_type": "stream",
     "text": [
      "Run l8al7zoj errored: KeyError('dataset')\n",
      "\u001b[34m\u001b[1mwandb\u001b[0m: \u001b[32m\u001b[41mERROR\u001b[0m Run l8al7zoj errored: KeyError('dataset')\n",
      "\u001b[34m\u001b[1mwandb\u001b[0m: Agent Starting Run: wq29bdiy with config:\n",
      "\u001b[34m\u001b[1mwandb\u001b[0m: \thp.batch_size: 16\n",
      "\u001b[34m\u001b[1mwandb\u001b[0m: \thp.epochs: 10\n",
      "\u001b[34m\u001b[1mwandb\u001b[0m: \thp.optimiser: Adam\n",
      "\u001b[34m\u001b[1mwandb\u001b[0m: \thp.optimiser_args.lr: 0.1\n",
      "Failed to detect the name of this notebook, you can set it manually with the WANDB_NOTEBOOK_NAME environment variable to enable code saving.\n",
      "\u001b[34m\u001b[1mwandb\u001b[0m: \u001b[33mWARNING\u001b[0m Ignored wandb.init() arg project when running a sweep.\n"
     ]
    },
    {
     "data": {
      "text/html": [
       "Tracking run with wandb version 0.15.2"
      ],
      "text/plain": [
       "<IPython.core.display.HTML object>"
      ]
     },
     "metadata": {},
     "output_type": "display_data"
    },
    {
     "data": {
      "text/html": [
       "Run data is saved locally in <code>/home/lrudl/Dropbox/Rudolf/Cambridge/22-23/dots/dots/notebooks/wandb/run-20230510_144900-wq29bdiy</code>"
      ],
      "text/plain": [
       "<IPython.core.display.HTML object>"
      ]
     },
     "metadata": {},
     "output_type": "display_data"
    },
    {
     "data": {
      "text/html": [
       "Syncing run <strong><a href='https://wandb.ai/lrudl/DOTS/runs/wq29bdiy' target=\"_blank\">smart-sweep-3</a></strong> to <a href='https://wandb.ai/lrudl/DOTS' target=\"_blank\">Weights & Biases</a> (<a href='https://wandb.me/run' target=\"_blank\">docs</a>)<br/>Sweep page: <a href='https://wandb.ai/lrudl/DOTS/sweeps/aim6gxmc' target=\"_blank\">https://wandb.ai/lrudl/DOTS/sweeps/aim6gxmc</a>"
      ],
      "text/plain": [
       "<IPython.core.display.HTML object>"
      ]
     },
     "metadata": {},
     "output_type": "display_data"
    },
    {
     "data": {
      "text/html": [
       " View project at <a href='https://wandb.ai/lrudl/DOTS' target=\"_blank\">https://wandb.ai/lrudl/DOTS</a>"
      ],
      "text/plain": [
       "<IPython.core.display.HTML object>"
      ]
     },
     "metadata": {},
     "output_type": "display_data"
    },
    {
     "data": {
      "text/html": [
       " View sweep at <a href='https://wandb.ai/lrudl/DOTS/sweeps/aim6gxmc' target=\"_blank\">https://wandb.ai/lrudl/DOTS/sweeps/aim6gxmc</a>"
      ],
      "text/plain": [
       "<IPython.core.display.HTML object>"
      ]
     },
     "metadata": {},
     "output_type": "display_data"
    },
    {
     "data": {
      "text/html": [
       " View run at <a href='https://wandb.ai/lrudl/DOTS/runs/wq29bdiy' target=\"_blank\">https://wandb.ai/lrudl/DOTS/runs/wq29bdiy</a>"
      ],
      "text/plain": [
       "<IPython.core.display.HTML object>"
      ]
     },
     "metadata": {},
     "output_type": "display_data"
    },
    {
     "data": {
      "text/html": [
       "Waiting for W&B process to finish... <strong style=\"color:red\">(failed 1).</strong> Press Control-C to abort syncing."
      ],
      "text/plain": [
       "<IPython.core.display.HTML object>"
      ]
     },
     "metadata": {},
     "output_type": "display_data"
    },
    {
     "name": "stderr",
     "output_type": "stream",
     "text": [
      "wandb: Network error (ConnectionError), entering retry loop.\n"
     ]
    },
    {
     "data": {
      "text/html": [
       " View run <strong style=\"color:#cdcd00\">smart-sweep-3</strong> at: <a href='https://wandb.ai/lrudl/DOTS/runs/wq29bdiy' target=\"_blank\">https://wandb.ai/lrudl/DOTS/runs/wq29bdiy</a><br/>Synced 5 W&B file(s), 0 media file(s), 0 artifact file(s) and 0 other file(s)"
      ],
      "text/plain": [
       "<IPython.core.display.HTML object>"
      ]
     },
     "metadata": {},
     "output_type": "display_data"
    },
    {
     "data": {
      "text/html": [
       "Find logs at: <code>./wandb/run-20230510_144900-wq29bdiy/logs</code>"
      ],
      "text/plain": [
       "<IPython.core.display.HTML object>"
      ]
     },
     "metadata": {},
     "output_type": "display_data"
    },
    {
     "name": "stderr",
     "output_type": "stream",
     "text": [
      "Run wq29bdiy errored: KeyError('dataset')\n",
      "\u001b[34m\u001b[1mwandb\u001b[0m: \u001b[32m\u001b[41mERROR\u001b[0m Run wq29bdiy errored: KeyError('dataset')\n",
      "\u001b[34m\u001b[1mwandb\u001b[0m: Sweep Agent: Waiting for job.\n",
      "\u001b[34m\u001b[1mwandb\u001b[0m: Job received.\n",
      "\u001b[34m\u001b[1mwandb\u001b[0m: Agent Starting Run: js4mtrgv with config:\n",
      "\u001b[34m\u001b[1mwandb\u001b[0m: \thp.batch_size: 128\n",
      "\u001b[34m\u001b[1mwandb\u001b[0m: \thp.epochs: 10\n",
      "\u001b[34m\u001b[1mwandb\u001b[0m: \thp.optimiser: Adam\n",
      "\u001b[34m\u001b[1mwandb\u001b[0m: \thp.optimiser_args.lr: 0.001\n",
      "Failed to detect the name of this notebook, you can set it manually with the WANDB_NOTEBOOK_NAME environment variable to enable code saving.\n",
      "\u001b[34m\u001b[1mwandb\u001b[0m: \u001b[33mWARNING\u001b[0m Ignored wandb.init() arg project when running a sweep.\n"
     ]
    },
    {
     "data": {
      "text/html": [
       "Tracking run with wandb version 0.15.2"
      ],
      "text/plain": [
       "<IPython.core.display.HTML object>"
      ]
     },
     "metadata": {},
     "output_type": "display_data"
    },
    {
     "data": {
      "text/html": [
       "Run data is saved locally in <code>/home/lrudl/Dropbox/Rudolf/Cambridge/22-23/dots/dots/notebooks/wandb/run-20230510_144947-js4mtrgv</code>"
      ],
      "text/plain": [
       "<IPython.core.display.HTML object>"
      ]
     },
     "metadata": {},
     "output_type": "display_data"
    },
    {
     "data": {
      "text/html": [
       "Syncing run <strong><a href='https://wandb.ai/lrudl/DOTS/runs/js4mtrgv' target=\"_blank\">hearty-sweep-4</a></strong> to <a href='https://wandb.ai/lrudl/DOTS' target=\"_blank\">Weights & Biases</a> (<a href='https://wandb.me/run' target=\"_blank\">docs</a>)<br/>Sweep page: <a href='https://wandb.ai/lrudl/DOTS/sweeps/aim6gxmc' target=\"_blank\">https://wandb.ai/lrudl/DOTS/sweeps/aim6gxmc</a>"
      ],
      "text/plain": [
       "<IPython.core.display.HTML object>"
      ]
     },
     "metadata": {},
     "output_type": "display_data"
    },
    {
     "data": {
      "text/html": [
       " View project at <a href='https://wandb.ai/lrudl/DOTS' target=\"_blank\">https://wandb.ai/lrudl/DOTS</a>"
      ],
      "text/plain": [
       "<IPython.core.display.HTML object>"
      ]
     },
     "metadata": {},
     "output_type": "display_data"
    },
    {
     "data": {
      "text/html": [
       " View sweep at <a href='https://wandb.ai/lrudl/DOTS/sweeps/aim6gxmc' target=\"_blank\">https://wandb.ai/lrudl/DOTS/sweeps/aim6gxmc</a>"
      ],
      "text/plain": [
       "<IPython.core.display.HTML object>"
      ]
     },
     "metadata": {},
     "output_type": "display_data"
    },
    {
     "data": {
      "text/html": [
       " View run at <a href='https://wandb.ai/lrudl/DOTS/runs/js4mtrgv' target=\"_blank\">https://wandb.ai/lrudl/DOTS/runs/js4mtrgv</a>"
      ],
      "text/plain": [
       "<IPython.core.display.HTML object>"
      ]
     },
     "metadata": {},
     "output_type": "display_data"
    },
    {
     "data": {
      "text/html": [
       "Waiting for W&B process to finish... <strong style=\"color:red\">(failed 1).</strong> Press Control-C to abort syncing."
      ],
      "text/plain": [
       "<IPython.core.display.HTML object>"
      ]
     },
     "metadata": {},
     "output_type": "display_data"
    },
    {
     "data": {
      "application/vnd.jupyter.widget-view+json": {
       "model_id": "7b8be40eb437462499e29250474d78a1",
       "version_major": 2,
       "version_minor": 0
      },
      "text/plain": [
       "VBox(children=(Label(value='0.002 MB of 0.010 MB uploaded (0.000 MB deduped)\\r'), FloatProgress(value=0.180901…"
      ]
     },
     "metadata": {},
     "output_type": "display_data"
    },
    {
     "data": {
      "text/html": [
       " View run <strong style=\"color:#cdcd00\">hearty-sweep-4</strong> at: <a href='https://wandb.ai/lrudl/DOTS/runs/js4mtrgv' target=\"_blank\">https://wandb.ai/lrudl/DOTS/runs/js4mtrgv</a><br/>Synced 5 W&B file(s), 0 media file(s), 0 artifact file(s) and 0 other file(s)"
      ],
      "text/plain": [
       "<IPython.core.display.HTML object>"
      ]
     },
     "metadata": {},
     "output_type": "display_data"
    },
    {
     "data": {
      "text/html": [
       "Find logs at: <code>./wandb/run-20230510_144947-js4mtrgv/logs</code>"
      ],
      "text/plain": [
       "<IPython.core.display.HTML object>"
      ]
     },
     "metadata": {},
     "output_type": "display_data"
    },
    {
     "name": "stderr",
     "output_type": "stream",
     "text": [
      "Run js4mtrgv errored: KeyError('dataset')\n",
      "\u001b[34m\u001b[1mwandb\u001b[0m: \u001b[32m\u001b[41mERROR\u001b[0m Run js4mtrgv errored: KeyError('dataset')\n",
      "\u001b[34m\u001b[1mwandb\u001b[0m: Agent Starting Run: hafib99o with config:\n",
      "\u001b[34m\u001b[1mwandb\u001b[0m: \thp.batch_size: 128\n",
      "\u001b[34m\u001b[1mwandb\u001b[0m: \thp.epochs: 10\n",
      "\u001b[34m\u001b[1mwandb\u001b[0m: \thp.optimiser: Adam\n",
      "\u001b[34m\u001b[1mwandb\u001b[0m: \thp.optimiser_args.lr: 0.01\n",
      "Failed to detect the name of this notebook, you can set it manually with the WANDB_NOTEBOOK_NAME environment variable to enable code saving.\n",
      "\u001b[34m\u001b[1mwandb\u001b[0m: \u001b[33mWARNING\u001b[0m Ignored wandb.init() arg project when running a sweep.\n"
     ]
    },
    {
     "data": {
      "text/html": [
       "Tracking run with wandb version 0.15.2"
      ],
      "text/plain": [
       "<IPython.core.display.HTML object>"
      ]
     },
     "metadata": {},
     "output_type": "display_data"
    },
    {
     "data": {
      "text/html": [
       "Run data is saved locally in <code>/home/lrudl/Dropbox/Rudolf/Cambridge/22-23/dots/dots/notebooks/wandb/run-20230510_144959-hafib99o</code>"
      ],
      "text/plain": [
       "<IPython.core.display.HTML object>"
      ]
     },
     "metadata": {},
     "output_type": "display_data"
    },
    {
     "data": {
      "text/html": [
       "Syncing run <strong><a href='https://wandb.ai/lrudl/DOTS/runs/hafib99o' target=\"_blank\">worthy-sweep-5</a></strong> to <a href='https://wandb.ai/lrudl/DOTS' target=\"_blank\">Weights & Biases</a> (<a href='https://wandb.me/run' target=\"_blank\">docs</a>)<br/>Sweep page: <a href='https://wandb.ai/lrudl/DOTS/sweeps/aim6gxmc' target=\"_blank\">https://wandb.ai/lrudl/DOTS/sweeps/aim6gxmc</a>"
      ],
      "text/plain": [
       "<IPython.core.display.HTML object>"
      ]
     },
     "metadata": {},
     "output_type": "display_data"
    },
    {
     "data": {
      "text/html": [
       " View project at <a href='https://wandb.ai/lrudl/DOTS' target=\"_blank\">https://wandb.ai/lrudl/DOTS</a>"
      ],
      "text/plain": [
       "<IPython.core.display.HTML object>"
      ]
     },
     "metadata": {},
     "output_type": "display_data"
    },
    {
     "data": {
      "text/html": [
       " View sweep at <a href='https://wandb.ai/lrudl/DOTS/sweeps/aim6gxmc' target=\"_blank\">https://wandb.ai/lrudl/DOTS/sweeps/aim6gxmc</a>"
      ],
      "text/plain": [
       "<IPython.core.display.HTML object>"
      ]
     },
     "metadata": {},
     "output_type": "display_data"
    },
    {
     "data": {
      "text/html": [
       " View run at <a href='https://wandb.ai/lrudl/DOTS/runs/hafib99o' target=\"_blank\">https://wandb.ai/lrudl/DOTS/runs/hafib99o</a>"
      ],
      "text/plain": [
       "<IPython.core.display.HTML object>"
      ]
     },
     "metadata": {},
     "output_type": "display_data"
    },
    {
     "data": {
      "text/html": [
       "Waiting for W&B process to finish... <strong style=\"color:red\">(failed 1).</strong> Press Control-C to abort syncing."
      ],
      "text/plain": [
       "<IPython.core.display.HTML object>"
      ]
     },
     "metadata": {},
     "output_type": "display_data"
    },
    {
     "data": {
      "application/vnd.jupyter.widget-view+json": {
       "model_id": "d6456f84a96245819c884e38cce96ed6",
       "version_major": 2,
       "version_minor": 0
      },
      "text/plain": [
       "VBox(children=(Label(value='0.002 MB of 0.010 MB uploaded (0.000 MB deduped)\\r'), FloatProgress(value=0.181480…"
      ]
     },
     "metadata": {},
     "output_type": "display_data"
    },
    {
     "data": {
      "text/html": [
       " View run <strong style=\"color:#cdcd00\">worthy-sweep-5</strong> at: <a href='https://wandb.ai/lrudl/DOTS/runs/hafib99o' target=\"_blank\">https://wandb.ai/lrudl/DOTS/runs/hafib99o</a><br/>Synced 5 W&B file(s), 0 media file(s), 0 artifact file(s) and 0 other file(s)"
      ],
      "text/plain": [
       "<IPython.core.display.HTML object>"
      ]
     },
     "metadata": {},
     "output_type": "display_data"
    },
    {
     "data": {
      "text/html": [
       "Find logs at: <code>./wandb/run-20230510_144959-hafib99o/logs</code>"
      ],
      "text/plain": [
       "<IPython.core.display.HTML object>"
      ]
     },
     "metadata": {},
     "output_type": "display_data"
    },
    {
     "name": "stderr",
     "output_type": "stream",
     "text": [
      "Run hafib99o errored: KeyError('dataset')\n",
      "\u001b[34m\u001b[1mwandb\u001b[0m: \u001b[32m\u001b[41mERROR\u001b[0m Run hafib99o errored: KeyError('dataset')\n",
      "\u001b[34m\u001b[1mwandb\u001b[0m: Sweep Agent: Waiting for job.\n",
      "\u001b[34m\u001b[1mwandb\u001b[0m: Job received.\n",
      "\u001b[34m\u001b[1mwandb\u001b[0m: Agent Starting Run: 3uxh48fy with config:\n",
      "\u001b[34m\u001b[1mwandb\u001b[0m: \thp.batch_size: 128\n",
      "\u001b[34m\u001b[1mwandb\u001b[0m: \thp.epochs: 10\n",
      "\u001b[34m\u001b[1mwandb\u001b[0m: \thp.optimiser: Adam\n",
      "\u001b[34m\u001b[1mwandb\u001b[0m: \thp.optimiser_args.lr: 0.1\n",
      "Failed to detect the name of this notebook, you can set it manually with the WANDB_NOTEBOOK_NAME environment variable to enable code saving.\n",
      "\u001b[34m\u001b[1mwandb\u001b[0m: \u001b[33mWARNING\u001b[0m Ignored wandb.init() arg project when running a sweep.\n"
     ]
    },
    {
     "data": {
      "text/html": [
       "Tracking run with wandb version 0.15.2"
      ],
      "text/plain": [
       "<IPython.core.display.HTML object>"
      ]
     },
     "metadata": {},
     "output_type": "display_data"
    },
    {
     "data": {
      "text/html": [
       "Run data is saved locally in <code>/home/lrudl/Dropbox/Rudolf/Cambridge/22-23/dots/dots/notebooks/wandb/run-20230510_145019-3uxh48fy</code>"
      ],
      "text/plain": [
       "<IPython.core.display.HTML object>"
      ]
     },
     "metadata": {},
     "output_type": "display_data"
    },
    {
     "data": {
      "text/html": [
       "Syncing run <strong><a href='https://wandb.ai/lrudl/DOTS/runs/3uxh48fy' target=\"_blank\">exalted-sweep-6</a></strong> to <a href='https://wandb.ai/lrudl/DOTS' target=\"_blank\">Weights & Biases</a> (<a href='https://wandb.me/run' target=\"_blank\">docs</a>)<br/>Sweep page: <a href='https://wandb.ai/lrudl/DOTS/sweeps/aim6gxmc' target=\"_blank\">https://wandb.ai/lrudl/DOTS/sweeps/aim6gxmc</a>"
      ],
      "text/plain": [
       "<IPython.core.display.HTML object>"
      ]
     },
     "metadata": {},
     "output_type": "display_data"
    },
    {
     "data": {
      "text/html": [
       " View project at <a href='https://wandb.ai/lrudl/DOTS' target=\"_blank\">https://wandb.ai/lrudl/DOTS</a>"
      ],
      "text/plain": [
       "<IPython.core.display.HTML object>"
      ]
     },
     "metadata": {},
     "output_type": "display_data"
    },
    {
     "data": {
      "text/html": [
       " View sweep at <a href='https://wandb.ai/lrudl/DOTS/sweeps/aim6gxmc' target=\"_blank\">https://wandb.ai/lrudl/DOTS/sweeps/aim6gxmc</a>"
      ],
      "text/plain": [
       "<IPython.core.display.HTML object>"
      ]
     },
     "metadata": {},
     "output_type": "display_data"
    },
    {
     "data": {
      "text/html": [
       " View run at <a href='https://wandb.ai/lrudl/DOTS/runs/3uxh48fy' target=\"_blank\">https://wandb.ai/lrudl/DOTS/runs/3uxh48fy</a>"
      ],
      "text/plain": [
       "<IPython.core.display.HTML object>"
      ]
     },
     "metadata": {},
     "output_type": "display_data"
    },
    {
     "data": {
      "text/html": [
       "Waiting for W&B process to finish... <strong style=\"color:red\">(failed 1).</strong> Press Control-C to abort syncing."
      ],
      "text/plain": [
       "<IPython.core.display.HTML object>"
      ]
     },
     "metadata": {},
     "output_type": "display_data"
    },
    {
     "data": {
      "application/vnd.jupyter.widget-view+json": {
       "model_id": "526f8717fd004d00b3dd470c995ead3c",
       "version_major": 2,
       "version_minor": 0
      },
      "text/plain": [
       "VBox(children=(Label(value='0.002 MB of 0.010 MB uploaded (0.000 MB deduped)\\r'), FloatProgress(value=0.181577…"
      ]
     },
     "metadata": {},
     "output_type": "display_data"
    },
    {
     "data": {
      "text/html": [
       " View run <strong style=\"color:#cdcd00\">exalted-sweep-6</strong> at: <a href='https://wandb.ai/lrudl/DOTS/runs/3uxh48fy' target=\"_blank\">https://wandb.ai/lrudl/DOTS/runs/3uxh48fy</a><br/>Synced 5 W&B file(s), 0 media file(s), 0 artifact file(s) and 0 other file(s)"
      ],
      "text/plain": [
       "<IPython.core.display.HTML object>"
      ]
     },
     "metadata": {},
     "output_type": "display_data"
    },
    {
     "data": {
      "text/html": [
       "Find logs at: <code>./wandb/run-20230510_145019-3uxh48fy/logs</code>"
      ],
      "text/plain": [
       "<IPython.core.display.HTML object>"
      ]
     },
     "metadata": {},
     "output_type": "display_data"
    },
    {
     "name": "stderr",
     "output_type": "stream",
     "text": [
      "Run 3uxh48fy errored: KeyError('dataset')\n",
      "\u001b[34m\u001b[1mwandb\u001b[0m: \u001b[32m\u001b[41mERROR\u001b[0m Run 3uxh48fy errored: KeyError('dataset')\n",
      "Detected 5 failed runs in a row at start, killing sweep.\n",
      "\u001b[34m\u001b[1mwandb\u001b[0m: \u001b[32m\u001b[41mERROR\u001b[0m Detected 5 failed runs in a row at start, killing sweep.\n",
      "\u001b[34m\u001b[1mwandb\u001b[0m: To change this value set WANDB_AGENT_MAX_INITIAL_FAILURES=val\n"
     ]
    }
   ],
   "source": [
    "run_sweep(config, sweep2)"
   ]
  },
  {
   "cell_type": "code",
   "execution_count": 18,
   "metadata": {},
   "outputs": [
    {
     "data": {
      "text/html": [
       "Changes to your `wandb` environment variables will be ignored because your `wandb` session has already started. For more information on how to modify your settings with `wandb.init()` arguments, please refer to <a href='https://wandb.me/wandb-init' target=\"_blank\">the W&B docs</a>."
      ],
      "text/plain": [
       "<IPython.core.display.HTML object>"
      ]
     },
     "metadata": {},
     "output_type": "display_data"
    },
    {
     "name": "stderr",
     "output_type": "stream",
     "text": [
      "\u001b[34m\u001b[1mwandb\u001b[0m: \u001b[33mWARNING\u001b[0m Ignored wandb.init() arg project when running a sweep.\n"
     ]
    },
    {
     "data": {
      "text/html": [
       "Tracking run with wandb version 0.15.2"
      ],
      "text/plain": [
       "<IPython.core.display.HTML object>"
      ]
     },
     "metadata": {},
     "output_type": "display_data"
    },
    {
     "data": {
      "text/html": [
       "Run data is saved locally in <code>/home/lrudl/Dropbox/Rudolf/Cambridge/22-23/dots/dots/notebooks/wandb/run-20230510_143305-i5w1pu9n</code>"
      ],
      "text/plain": [
       "<IPython.core.display.HTML object>"
      ]
     },
     "metadata": {},
     "output_type": "display_data"
    },
    {
     "data": {
      "text/html": [
       "Syncing run <strong><a href='https://wandb.ai/lrudl/DOTS/runs/i5w1pu9n' target=\"_blank\">fancy-sweep-3</a></strong> to <a href='https://wandb.ai/lrudl/DOTS' target=\"_blank\">Weights & Biases</a> (<a href='https://wandb.me/run' target=\"_blank\">docs</a>)<br/>Sweep page: <a href='https://wandb.ai/lrudl/DOTS/sweeps/rn5acg3i' target=\"_blank\">https://wandb.ai/lrudl/DOTS/sweeps/rn5acg3i</a>"
      ],
      "text/plain": [
       "<IPython.core.display.HTML object>"
      ]
     },
     "metadata": {},
     "output_type": "display_data"
    },
    {
     "data": {
      "text/html": [
       " View project at <a href='https://wandb.ai/lrudl/DOTS' target=\"_blank\">https://wandb.ai/lrudl/DOTS</a>"
      ],
      "text/plain": [
       "<IPython.core.display.HTML object>"
      ]
     },
     "metadata": {},
     "output_type": "display_data"
    },
    {
     "data": {
      "text/html": [
       " View sweep at <a href='https://wandb.ai/lrudl/DOTS/sweeps/rn5acg3i' target=\"_blank\">https://wandb.ai/lrudl/DOTS/sweeps/rn5acg3i</a>"
      ],
      "text/plain": [
       "<IPython.core.display.HTML object>"
      ]
     },
     "metadata": {},
     "output_type": "display_data"
    },
    {
     "data": {
      "text/html": [
       " View run at <a href='https://wandb.ai/lrudl/DOTS/runs/i5w1pu9n' target=\"_blank\">https://wandb.ai/lrudl/DOTS/runs/i5w1pu9n</a>"
      ],
      "text/plain": [
       "<IPython.core.display.HTML object>"
      ]
     },
     "metadata": {},
     "output_type": "display_data"
    },
    {
     "data": {
      "text/html": [
       "<button onClick=\"this.nextSibling.style.display='block';this.style.display='none';\">Display W&B run</button><iframe src='https://wandb.ai/lrudl/DOTS/runs/i5w1pu9n?jupyter=true' style='border:none;width:100%;height:420px;display:none;'></iframe>"
      ],
      "text/plain": [
       "<wandb.sdk.wandb_run.Run at 0x7fac61bdf3a0>"
      ]
     },
     "execution_count": 18,
     "metadata": {},
     "output_type": "execute_result"
    }
   ],
   "source": [
    "wandb.init(project=\"DOTS\", config=config)"
   ]
  },
  {
   "cell_type": "code",
   "execution_count": 20,
   "metadata": {},
   "outputs": [],
   "source": [
    "from pprint import pprint"
   ]
  },
  {
   "cell_type": "code",
   "execution_count": 21,
   "metadata": {},
   "outputs": [
    {
     "name": "stdout",
     "output_type": "stream",
     "text": [
      "{'hp.batch_size': 16, 'hp.epochs': 10, 'hp.optimiser': 'Adam', 'hp.optimiser_args.lr': 0.1, 'model_class': 'MLP', 'model': {'in_size': 1, 'hidden': [10], 'out_size': 1, 'bias': True}, 'hp': {'optimiser': 'Adam', 'optimiser_args': {'lr': 0.001}, 'loss_fn': 'MSELoss', 'epochs': 10, 'batch_size': 16}, 'dataset': {'name': 'relu', 'train_test_val_split': [0.8, 0.1, 0.1]}}\n"
     ]
    }
   ],
   "source": [
    "pprint(wandb.config)"
   ]
  },
  {
   "cell_type": "code",
   "execution_count": 23,
   "metadata": {},
   "outputs": [
    {
     "data": {
      "text/plain": [
       "{'name': 'relu', 'train_test_val_split': [0.8, 0.1, 0.1]}"
      ]
     },
     "execution_count": 23,
     "metadata": {},
     "output_type": "execute_result"
    }
   ],
   "source": [
    "wandb.config.dataset"
   ]
  },
  {
   "cell_type": "code",
   "execution_count": 24,
   "metadata": {},
   "outputs": [
    {
     "data": {
      "text/plain": [
       "{'name': 'relu', 'train_test_val_split': [0.8, 0.1, 0.1]}"
      ]
     },
     "execution_count": 24,
     "metadata": {},
     "output_type": "execute_result"
    }
   ],
   "source": [
    "wandb.config[\"dataset\"]"
   ]
  },
  {
   "cell_type": "code",
   "execution_count": 25,
   "metadata": {},
   "outputs": [
    {
     "data": {
      "text/plain": [
       "['hp.batch_size',\n",
       " 'hp.epochs',\n",
       " 'hp.optimiser',\n",
       " 'hp.optimiser_args.lr',\n",
       " 'model_class',\n",
       " 'model',\n",
       " 'hp',\n",
       " 'dataset']"
      ]
     },
     "execution_count": 25,
     "metadata": {},
     "output_type": "execute_result"
    }
   ],
   "source": [
    "[key for key in wandb.config.keys()]"
   ]
  },
  {
   "cell_type": "code",
   "execution_count": null,
   "metadata": {},
   "outputs": [],
   "source": []
  }
 ],
 "metadata": {
  "kernelspec": {
   "display_name": "Python 3",
   "language": "python",
   "name": "python3"
  },
  "language_info": {
   "codemirror_mode": {
    "name": "ipython",
    "version": 3
   },
   "file_extension": ".py",
   "mimetype": "text/x-python",
   "name": "python",
   "nbconvert_exporter": "python",
   "pygments_lexer": "ipython3",
   "version": "3.10.4"
  },
  "orig_nbformat": 4
 },
 "nbformat": 4,
 "nbformat_minor": 2
}
