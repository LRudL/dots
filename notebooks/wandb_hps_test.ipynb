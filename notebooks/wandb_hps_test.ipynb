{
 "cells": [
  {
   "cell_type": "code",
   "execution_count": 1,
   "metadata": {},
   "outputs": [
    {
     "name": "stderr",
     "output_type": "stream",
     "text": [
      "/home/lrudl/miniconda3/envs/dots_env/lib/python3.10/site-packages/torchvision/io/image.py:13: UserWarning: Failed to load image Python extension: libc10_cuda.so: cannot open shared object file: No such file or directory\n",
      "  warn(f\"Failed to load image Python extension: {e}\")\n"
     ]
    }
   ],
   "source": [
    "%load_ext autoreload\n",
    "%autoreload 2\n",
    "import sys\n",
    "sys.path.append(\"..\")\n",
    "\n",
    "import wandb\n",
    "\n",
    "from dots.experiment import run_experiment, get_model, get_optimiser, get_loss_fn, run_sweep\n",
    "from dots.utils import *"
   ]
  },
  {
   "cell_type": "code",
   "execution_count": 2,
   "metadata": {},
   "outputs": [],
   "source": [
    "import wandb\n",
    "import torch as t\n",
    "import torch.utils.data as tdata\n",
    "from dots.training import train, TrainState\n",
    "from dots.utils import range_batch, get_device\n",
    "from dots.datasets import get_dataset\n",
    "from dots.models import *"
   ]
  },
  {
   "cell_type": "code",
   "execution_count": 6,
   "metadata": {},
   "outputs": [],
   "source": [
    "config = {\n",
    "    \"model_class\": \"MLP\",\n",
    "    \"model\": {\n",
    "        \"in_size\": 1,\n",
    "        \"hidden\": [10],\n",
    "        \"out_size\": 1,\n",
    "        \"bias\": True\n",
    "    },\n",
    "    \"hp\": {\n",
    "        \"optimiser\": \"Adam\",\n",
    "        \"optimiser_args\" : {\n",
    "            \"lr\": 0.001\n",
    "        },\n",
    "        \"loss_fn\": \"MSELoss\",\n",
    "        \"epochs\": 10,\n",
    "        \"batch_size\": 16\n",
    "    },\n",
    "    \"dataset\": {\n",
    "        \"name\": \"relu\",\n",
    "        \"train_test_val_split\": [0.8, 0.1, 0.1]\n",
    "    }\n",
    "}\n",
    "\n",
    "sweep = {\n",
    "    'method': 'grid',\n",
    "    'name': 'test_sweep',\n",
    "    'metric': {\n",
    "        'goal': 'minimize',\n",
    "        'name': 'test_loss'\n",
    "    },\n",
    "    'parameters': {\n",
    "        \"hp\": {\n",
    "            \"parameters\": {\n",
    "                \"optimiser\": {\"values\": [\"Adam\"]},\n",
    "                \"epochs\": {\"values\": [10]},\n",
    "                \"batch_size\": {\"values\": [16]},\n",
    "                \"optimiser_args\" : {\n",
    "                    \"parameters\": {\n",
    "                        \"lr\": {\"values\": [0.001, 0.01, 0.1]}\n",
    "                    }\n",
    "                }\n",
    "            },\n",
    "        }\n",
    "    }\n",
    "}\n",
    "\n",
    "sweep2 = {\n",
    "    'method': 'grid',\n",
    "    'name': 'test_sweep',\n",
    "    'metric': {\n",
    "        'goal': 'minimize',\n",
    "        'name': 'val_loss'\n",
    "    },\n",
    "    'parameters': {\n",
    "        \"hp.optimiser\": {\"values\": [\"Adam\"]},\n",
    "        \"hp.optimiser_args.lr\" : {\"values\": [0.001, 0.01, 0.1]},\n",
    "        \"hp.epochs\": {\"values\": [10]},\n",
    "        \"hp.batch_size\": {\"values\": [16]}\n",
    "    }\n",
    "}\n",
    "\n",
    "sweep_config = {\n",
    "    \"method\": \"grid\",\n",
    "    \"parameters\": {\n",
    "        \"learning_rate\": {\"values\": [0.001, 0.01, 0.1]},\n",
    "        \"optimizer\": {\n",
    "            \"name\": [\"Adam\", \"SGD\"],\n",
    "            \"learning_rate\": {\"Adam\": [0.001, 0.01, 0.1], \"SGD\": [0.01, 0.1, 1.0]}\n",
    "        }\n",
    "    }\n",
    "}\n"
   ]
  },
  {
   "cell_type": "code",
   "execution_count": 7,
   "metadata": {},
   "outputs": [
    {
     "name": "stdout",
     "output_type": "stream",
     "text": [
      "Create sweep with ID: lf4da9vp\n",
      "Sweep URL: https://wandb.ai/lrudl/DOTS/sweeps/lf4da9vp\n"
     ]
    },
    {
     "name": "stderr",
     "output_type": "stream",
     "text": [
      "\u001b[34m\u001b[1mwandb\u001b[0m: Agent Starting Run: jgf39383 with config:\n",
      "\u001b[34m\u001b[1mwandb\u001b[0m: \thp: {'batch_size': 16, 'epochs': 10, 'optimiser': 'Adam', 'optimiser_args': {'lr': 0.001}}\n",
      "Failed to detect the name of this notebook, you can set it manually with the WANDB_NOTEBOOK_NAME environment variable to enable code saving.\n",
      "\u001b[34m\u001b[1mwandb\u001b[0m: Currently logged in as: \u001b[33mlrudl\u001b[0m. Use \u001b[1m`wandb login --relogin`\u001b[0m to force relogin\n",
      "\u001b[34m\u001b[1mwandb\u001b[0m: \u001b[33mWARNING\u001b[0m Ignored wandb.init() arg project when running a sweep.\n"
     ]
    },
    {
     "data": {
      "text/html": [
       "Tracking run with wandb version 0.15.2"
      ],
      "text/plain": [
       "<IPython.core.display.HTML object>"
      ]
     },
     "metadata": {},
     "output_type": "display_data"
    },
    {
     "data": {
      "text/html": [
       "Run data is saved locally in <code>/home/lrudl/Dropbox/Rudolf/Cambridge/22-23/dots/dots/notebooks/wandb/run-20230510_152355-jgf39383</code>"
      ],
      "text/plain": [
       "<IPython.core.display.HTML object>"
      ]
     },
     "metadata": {},
     "output_type": "display_data"
    },
    {
     "data": {
      "text/html": [
       "Syncing run <strong><a href='https://wandb.ai/lrudl/DOTS/runs/jgf39383' target=\"_blank\">glad-sweep-1</a></strong> to <a href='https://wandb.ai/lrudl/DOTS' target=\"_blank\">Weights & Biases</a> (<a href='https://wandb.me/run' target=\"_blank\">docs</a>)<br/>Sweep page: <a href='https://wandb.ai/lrudl/DOTS/sweeps/lf4da9vp' target=\"_blank\">https://wandb.ai/lrudl/DOTS/sweeps/lf4da9vp</a>"
      ],
      "text/plain": [
       "<IPython.core.display.HTML object>"
      ]
     },
     "metadata": {},
     "output_type": "display_data"
    },
    {
     "data": {
      "text/html": [
       " View project at <a href='https://wandb.ai/lrudl/DOTS' target=\"_blank\">https://wandb.ai/lrudl/DOTS</a>"
      ],
      "text/plain": [
       "<IPython.core.display.HTML object>"
      ]
     },
     "metadata": {},
     "output_type": "display_data"
    },
    {
     "data": {
      "text/html": [
       " View sweep at <a href='https://wandb.ai/lrudl/DOTS/sweeps/lf4da9vp' target=\"_blank\">https://wandb.ai/lrudl/DOTS/sweeps/lf4da9vp</a>"
      ],
      "text/plain": [
       "<IPython.core.display.HTML object>"
      ]
     },
     "metadata": {},
     "output_type": "display_data"
    },
    {
     "data": {
      "text/html": [
       " View run at <a href='https://wandb.ai/lrudl/DOTS/runs/jgf39383' target=\"_blank\">https://wandb.ai/lrudl/DOTS/runs/jgf39383</a>"
      ],
      "text/plain": [
       "<IPython.core.display.HTML object>"
      ]
     },
     "metadata": {},
     "output_type": "display_data"
    },
    {
     "data": {
      "text/html": [
       "Waiting for W&B process to finish... <strong style=\"color:red\">(failed 1).</strong> Press Control-C to abort syncing."
      ],
      "text/plain": [
       "<IPython.core.display.HTML object>"
      ]
     },
     "metadata": {},
     "output_type": "display_data"
    },
    {
     "data": {
      "application/vnd.jupyter.widget-view+json": {
       "model_id": "72549ed7caf440fda284f4adfcea91c6",
       "version_major": 2,
       "version_minor": 0
      },
      "text/plain": [
       "VBox(children=(Label(value='0.002 MB of 0.012 MB uploaded (0.000 MB deduped)\\r'), FloatProgress(value=0.144738…"
      ]
     },
     "metadata": {},
     "output_type": "display_data"
    },
    {
     "data": {
      "text/html": [
       " View run <strong style=\"color:#cdcd00\">glad-sweep-1</strong> at: <a href='https://wandb.ai/lrudl/DOTS/runs/jgf39383' target=\"_blank\">https://wandb.ai/lrudl/DOTS/runs/jgf39383</a><br/>Synced 5 W&B file(s), 0 media file(s), 0 artifact file(s) and 0 other file(s)"
      ],
      "text/plain": [
       "<IPython.core.display.HTML object>"
      ]
     },
     "metadata": {},
     "output_type": "display_data"
    },
    {
     "data": {
      "text/html": [
       "Find logs at: <code>./wandb/run-20230510_152355-jgf39383/logs</code>"
      ],
      "text/plain": [
       "<IPython.core.display.HTML object>"
      ]
     },
     "metadata": {},
     "output_type": "display_data"
    },
    {
     "name": "stderr",
     "output_type": "stream",
     "text": [
      "Run jgf39383 errored: KeyError('dataset')\n",
      "\u001b[34m\u001b[1mwandb\u001b[0m: \u001b[32m\u001b[41mERROR\u001b[0m Run jgf39383 errored: KeyError('dataset')\n",
      "\u001b[34m\u001b[1mwandb\u001b[0m: Agent Starting Run: w8yziqq6 with config:\n",
      "\u001b[34m\u001b[1mwandb\u001b[0m: \thp: {'batch_size': 16, 'epochs': 10, 'optimiser': 'Adam', 'optimiser_args': {'lr': 0.01}}\n",
      "Failed to detect the name of this notebook, you can set it manually with the WANDB_NOTEBOOK_NAME environment variable to enable code saving.\n",
      "\u001b[34m\u001b[1mwandb\u001b[0m: \u001b[33mWARNING\u001b[0m Ignored wandb.init() arg project when running a sweep.\n"
     ]
    },
    {
     "data": {
      "text/html": [
       "Tracking run with wandb version 0.15.2"
      ],
      "text/plain": [
       "<IPython.core.display.HTML object>"
      ]
     },
     "metadata": {},
     "output_type": "display_data"
    },
    {
     "data": {
      "text/html": [
       "Run data is saved locally in <code>/home/lrudl/Dropbox/Rudolf/Cambridge/22-23/dots/dots/notebooks/wandb/run-20230510_152406-w8yziqq6</code>"
      ],
      "text/plain": [
       "<IPython.core.display.HTML object>"
      ]
     },
     "metadata": {},
     "output_type": "display_data"
    },
    {
     "data": {
      "text/html": [
       "Syncing run <strong><a href='https://wandb.ai/lrudl/DOTS/runs/w8yziqq6' target=\"_blank\">visionary-sweep-2</a></strong> to <a href='https://wandb.ai/lrudl/DOTS' target=\"_blank\">Weights & Biases</a> (<a href='https://wandb.me/run' target=\"_blank\">docs</a>)<br/>Sweep page: <a href='https://wandb.ai/lrudl/DOTS/sweeps/lf4da9vp' target=\"_blank\">https://wandb.ai/lrudl/DOTS/sweeps/lf4da9vp</a>"
      ],
      "text/plain": [
       "<IPython.core.display.HTML object>"
      ]
     },
     "metadata": {},
     "output_type": "display_data"
    },
    {
     "data": {
      "text/html": [
       " View project at <a href='https://wandb.ai/lrudl/DOTS' target=\"_blank\">https://wandb.ai/lrudl/DOTS</a>"
      ],
      "text/plain": [
       "<IPython.core.display.HTML object>"
      ]
     },
     "metadata": {},
     "output_type": "display_data"
    },
    {
     "data": {
      "text/html": [
       " View sweep at <a href='https://wandb.ai/lrudl/DOTS/sweeps/lf4da9vp' target=\"_blank\">https://wandb.ai/lrudl/DOTS/sweeps/lf4da9vp</a>"
      ],
      "text/plain": [
       "<IPython.core.display.HTML object>"
      ]
     },
     "metadata": {},
     "output_type": "display_data"
    },
    {
     "data": {
      "text/html": [
       " View run at <a href='https://wandb.ai/lrudl/DOTS/runs/w8yziqq6' target=\"_blank\">https://wandb.ai/lrudl/DOTS/runs/w8yziqq6</a>"
      ],
      "text/plain": [
       "<IPython.core.display.HTML object>"
      ]
     },
     "metadata": {},
     "output_type": "display_data"
    },
    {
     "data": {
      "text/html": [
       "Waiting for W&B process to finish... <strong style=\"color:red\">(failed 1).</strong> Press Control-C to abort syncing."
      ],
      "text/plain": [
       "<IPython.core.display.HTML object>"
      ]
     },
     "metadata": {},
     "output_type": "display_data"
    },
    {
     "data": {
      "application/vnd.jupyter.widget-view+json": {
       "model_id": "2a4e10045204455f89ed22e959479cbe",
       "version_major": 2,
       "version_minor": 0
      },
      "text/plain": [
       "VBox(children=(Label(value='0.002 MB of 0.010 MB uploaded (0.000 MB deduped)\\r'), FloatProgress(value=0.181764…"
      ]
     },
     "metadata": {},
     "output_type": "display_data"
    },
    {
     "data": {
      "text/html": [
       " View run <strong style=\"color:#cdcd00\">visionary-sweep-2</strong> at: <a href='https://wandb.ai/lrudl/DOTS/runs/w8yziqq6' target=\"_blank\">https://wandb.ai/lrudl/DOTS/runs/w8yziqq6</a><br/>Synced 5 W&B file(s), 0 media file(s), 0 artifact file(s) and 0 other file(s)"
      ],
      "text/plain": [
       "<IPython.core.display.HTML object>"
      ]
     },
     "metadata": {},
     "output_type": "display_data"
    },
    {
     "data": {
      "text/html": [
       "Find logs at: <code>./wandb/run-20230510_152406-w8yziqq6/logs</code>"
      ],
      "text/plain": [
       "<IPython.core.display.HTML object>"
      ]
     },
     "metadata": {},
     "output_type": "display_data"
    },
    {
     "name": "stderr",
     "output_type": "stream",
     "text": [
      "Run w8yziqq6 errored: KeyError('dataset')\n",
      "\u001b[34m\u001b[1mwandb\u001b[0m: \u001b[32m\u001b[41mERROR\u001b[0m Run w8yziqq6 errored: KeyError('dataset')\n",
      "\u001b[34m\u001b[1mwandb\u001b[0m: Agent Starting Run: 6o8x2ez9 with config:\n",
      "\u001b[34m\u001b[1mwandb\u001b[0m: \thp: {'batch_size': 16, 'epochs': 10, 'optimiser': 'Adam', 'optimiser_args': {'lr': 0.1}}\n",
      "Failed to detect the name of this notebook, you can set it manually with the WANDB_NOTEBOOK_NAME environment variable to enable code saving.\n",
      "\u001b[34m\u001b[1mwandb\u001b[0m: \u001b[33mWARNING\u001b[0m Ignored wandb.init() arg project when running a sweep.\n"
     ]
    },
    {
     "data": {
      "text/html": [
       "Tracking run with wandb version 0.15.2"
      ],
      "text/plain": [
       "<IPython.core.display.HTML object>"
      ]
     },
     "metadata": {},
     "output_type": "display_data"
    },
    {
     "data": {
      "text/html": [
       "Run data is saved locally in <code>/home/lrudl/Dropbox/Rudolf/Cambridge/22-23/dots/dots/notebooks/wandb/run-20230510_152417-6o8x2ez9</code>"
      ],
      "text/plain": [
       "<IPython.core.display.HTML object>"
      ]
     },
     "metadata": {},
     "output_type": "display_data"
    },
    {
     "data": {
      "text/html": [
       "Syncing run <strong><a href='https://wandb.ai/lrudl/DOTS/runs/6o8x2ez9' target=\"_blank\">dashing-sweep-3</a></strong> to <a href='https://wandb.ai/lrudl/DOTS' target=\"_blank\">Weights & Biases</a> (<a href='https://wandb.me/run' target=\"_blank\">docs</a>)<br/>Sweep page: <a href='https://wandb.ai/lrudl/DOTS/sweeps/lf4da9vp' target=\"_blank\">https://wandb.ai/lrudl/DOTS/sweeps/lf4da9vp</a>"
      ],
      "text/plain": [
       "<IPython.core.display.HTML object>"
      ]
     },
     "metadata": {},
     "output_type": "display_data"
    },
    {
     "data": {
      "text/html": [
       " View project at <a href='https://wandb.ai/lrudl/DOTS' target=\"_blank\">https://wandb.ai/lrudl/DOTS</a>"
      ],
      "text/plain": [
       "<IPython.core.display.HTML object>"
      ]
     },
     "metadata": {},
     "output_type": "display_data"
    },
    {
     "data": {
      "text/html": [
       " View sweep at <a href='https://wandb.ai/lrudl/DOTS/sweeps/lf4da9vp' target=\"_blank\">https://wandb.ai/lrudl/DOTS/sweeps/lf4da9vp</a>"
      ],
      "text/plain": [
       "<IPython.core.display.HTML object>"
      ]
     },
     "metadata": {},
     "output_type": "display_data"
    },
    {
     "data": {
      "text/html": [
       " View run at <a href='https://wandb.ai/lrudl/DOTS/runs/6o8x2ez9' target=\"_blank\">https://wandb.ai/lrudl/DOTS/runs/6o8x2ez9</a>"
      ],
      "text/plain": [
       "<IPython.core.display.HTML object>"
      ]
     },
     "metadata": {},
     "output_type": "display_data"
    },
    {
     "data": {
      "text/html": [
       "Waiting for W&B process to finish... <strong style=\"color:red\">(failed 1).</strong> Press Control-C to abort syncing."
      ],
      "text/plain": [
       "<IPython.core.display.HTML object>"
      ]
     },
     "metadata": {},
     "output_type": "display_data"
    },
    {
     "data": {
      "application/vnd.jupyter.widget-view+json": {
       "model_id": "814c904e0bed42ff93d131f1e99ab5aa",
       "version_major": 2,
       "version_minor": 0
      },
      "text/plain": [
       "VBox(children=(Label(value='0.002 MB of 0.010 MB uploaded (0.000 MB deduped)\\r'), FloatProgress(value=0.182426…"
      ]
     },
     "metadata": {},
     "output_type": "display_data"
    },
    {
     "data": {
      "text/html": [
       " View run <strong style=\"color:#cdcd00\">dashing-sweep-3</strong> at: <a href='https://wandb.ai/lrudl/DOTS/runs/6o8x2ez9' target=\"_blank\">https://wandb.ai/lrudl/DOTS/runs/6o8x2ez9</a><br/>Synced 5 W&B file(s), 0 media file(s), 0 artifact file(s) and 0 other file(s)"
      ],
      "text/plain": [
       "<IPython.core.display.HTML object>"
      ]
     },
     "metadata": {},
     "output_type": "display_data"
    },
    {
     "data": {
      "text/html": [
       "Find logs at: <code>./wandb/run-20230510_152417-6o8x2ez9/logs</code>"
      ],
      "text/plain": [
       "<IPython.core.display.HTML object>"
      ]
     },
     "metadata": {},
     "output_type": "display_data"
    },
    {
     "name": "stderr",
     "output_type": "stream",
     "text": [
      "Run 6o8x2ez9 errored: KeyError('dataset')\n",
      "\u001b[34m\u001b[1mwandb\u001b[0m: \u001b[32m\u001b[41mERROR\u001b[0m Run 6o8x2ez9 errored: KeyError('dataset')\n",
      "Detected 3 failed runs in the first 60 seconds, killing sweep.\n",
      "\u001b[34m\u001b[1mwandb\u001b[0m: \u001b[32m\u001b[41mERROR\u001b[0m Detected 3 failed runs in the first 60 seconds, killing sweep.\n",
      "\u001b[34m\u001b[1mwandb\u001b[0m: To disable this check set WANDB_AGENT_DISABLE_FLAPPING=true\n"
     ]
    }
   ],
   "source": [
    "run_sweep(config, sweep)"
   ]
  },
  {
   "cell_type": "code",
   "execution_count": 18,
   "metadata": {},
   "outputs": [
    {
     "data": {
      "text/html": [
       "Changes to your `wandb` environment variables will be ignored because your `wandb` session has already started. For more information on how to modify your settings with `wandb.init()` arguments, please refer to <a href='https://wandb.me/wandb-init' target=\"_blank\">the W&B docs</a>."
      ],
      "text/plain": [
       "<IPython.core.display.HTML object>"
      ]
     },
     "metadata": {},
     "output_type": "display_data"
    },
    {
     "name": "stderr",
     "output_type": "stream",
     "text": [
      "\u001b[34m\u001b[1mwandb\u001b[0m: \u001b[33mWARNING\u001b[0m Ignored wandb.init() arg project when running a sweep.\n"
     ]
    },
    {
     "data": {
      "text/html": [
       "Tracking run with wandb version 0.15.2"
      ],
      "text/plain": [
       "<IPython.core.display.HTML object>"
      ]
     },
     "metadata": {},
     "output_type": "display_data"
    },
    {
     "data": {
      "text/html": [
       "Run data is saved locally in <code>/home/lrudl/Dropbox/Rudolf/Cambridge/22-23/dots/dots/notebooks/wandb/run-20230510_143305-i5w1pu9n</code>"
      ],
      "text/plain": [
       "<IPython.core.display.HTML object>"
      ]
     },
     "metadata": {},
     "output_type": "display_data"
    },
    {
     "data": {
      "text/html": [
       "Syncing run <strong><a href='https://wandb.ai/lrudl/DOTS/runs/i5w1pu9n' target=\"_blank\">fancy-sweep-3</a></strong> to <a href='https://wandb.ai/lrudl/DOTS' target=\"_blank\">Weights & Biases</a> (<a href='https://wandb.me/run' target=\"_blank\">docs</a>)<br/>Sweep page: <a href='https://wandb.ai/lrudl/DOTS/sweeps/rn5acg3i' target=\"_blank\">https://wandb.ai/lrudl/DOTS/sweeps/rn5acg3i</a>"
      ],
      "text/plain": [
       "<IPython.core.display.HTML object>"
      ]
     },
     "metadata": {},
     "output_type": "display_data"
    },
    {
     "data": {
      "text/html": [
       " View project at <a href='https://wandb.ai/lrudl/DOTS' target=\"_blank\">https://wandb.ai/lrudl/DOTS</a>"
      ],
      "text/plain": [
       "<IPython.core.display.HTML object>"
      ]
     },
     "metadata": {},
     "output_type": "display_data"
    },
    {
     "data": {
      "text/html": [
       " View sweep at <a href='https://wandb.ai/lrudl/DOTS/sweeps/rn5acg3i' target=\"_blank\">https://wandb.ai/lrudl/DOTS/sweeps/rn5acg3i</a>"
      ],
      "text/plain": [
       "<IPython.core.display.HTML object>"
      ]
     },
     "metadata": {},
     "output_type": "display_data"
    },
    {
     "data": {
      "text/html": [
       " View run at <a href='https://wandb.ai/lrudl/DOTS/runs/i5w1pu9n' target=\"_blank\">https://wandb.ai/lrudl/DOTS/runs/i5w1pu9n</a>"
      ],
      "text/plain": [
       "<IPython.core.display.HTML object>"
      ]
     },
     "metadata": {},
     "output_type": "display_data"
    },
    {
     "data": {
      "text/html": [
       "<button onClick=\"this.nextSibling.style.display='block';this.style.display='none';\">Display W&B run</button><iframe src='https://wandb.ai/lrudl/DOTS/runs/i5w1pu9n?jupyter=true' style='border:none;width:100%;height:420px;display:none;'></iframe>"
      ],
      "text/plain": [
       "<wandb.sdk.wandb_run.Run at 0x7fac61bdf3a0>"
      ]
     },
     "execution_count": 18,
     "metadata": {},
     "output_type": "execute_result"
    }
   ],
   "source": [
    "wandb.init(project=\"DOTS\", config=config)"
   ]
  },
  {
   "cell_type": "code",
   "execution_count": 20,
   "metadata": {},
   "outputs": [],
   "source": [
    "from pprint import pprint"
   ]
  },
  {
   "cell_type": "code",
   "execution_count": 21,
   "metadata": {},
   "outputs": [
    {
     "name": "stdout",
     "output_type": "stream",
     "text": [
      "{'hp.batch_size': 16, 'hp.epochs': 10, 'hp.optimiser': 'Adam', 'hp.optimiser_args.lr': 0.1, 'model_class': 'MLP', 'model': {'in_size': 1, 'hidden': [10], 'out_size': 1, 'bias': True}, 'hp': {'optimiser': 'Adam', 'optimiser_args': {'lr': 0.001}, 'loss_fn': 'MSELoss', 'epochs': 10, 'batch_size': 16}, 'dataset': {'name': 'relu', 'train_test_val_split': [0.8, 0.1, 0.1]}}\n"
     ]
    }
   ],
   "source": [
    "pprint(wandb.config)"
   ]
  },
  {
   "cell_type": "code",
   "execution_count": 23,
   "metadata": {},
   "outputs": [
    {
     "data": {
      "text/plain": [
       "{'name': 'relu', 'train_test_val_split': [0.8, 0.1, 0.1]}"
      ]
     },
     "execution_count": 23,
     "metadata": {},
     "output_type": "execute_result"
    }
   ],
   "source": [
    "wandb.config.dataset"
   ]
  },
  {
   "cell_type": "code",
   "execution_count": 24,
   "metadata": {},
   "outputs": [
    {
     "data": {
      "text/plain": [
       "{'name': 'relu', 'train_test_val_split': [0.8, 0.1, 0.1]}"
      ]
     },
     "execution_count": 24,
     "metadata": {},
     "output_type": "execute_result"
    }
   ],
   "source": [
    "wandb.config[\"dataset\"]"
   ]
  },
  {
   "cell_type": "code",
   "execution_count": 25,
   "metadata": {},
   "outputs": [
    {
     "data": {
      "text/plain": [
       "['hp.batch_size',\n",
       " 'hp.epochs',\n",
       " 'hp.optimiser',\n",
       " 'hp.optimiser_args.lr',\n",
       " 'model_class',\n",
       " 'model',\n",
       " 'hp',\n",
       " 'dataset']"
      ]
     },
     "execution_count": 25,
     "metadata": {},
     "output_type": "execute_result"
    }
   ],
   "source": [
    "[key for key in wandb.config.keys()]"
   ]
  },
  {
   "cell_type": "code",
   "execution_count": null,
   "metadata": {},
   "outputs": [],
   "source": []
  }
 ],
 "metadata": {
  "kernelspec": {
   "display_name": "Python 3",
   "language": "python",
   "name": "python3"
  },
  "language_info": {
   "codemirror_mode": {
    "name": "ipython",
    "version": 3
   },
   "file_extension": ".py",
   "mimetype": "text/x-python",
   "name": "python",
   "nbconvert_exporter": "python",
   "pygments_lexer": "ipython3",
   "version": "3.10.4"
  },
  "orig_nbformat": 4
 },
 "nbformat": 4,
 "nbformat_minor": 2
}
