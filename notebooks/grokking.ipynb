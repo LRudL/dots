{
  "cells": [
    {
      "attachments": {},
      "cell_type": "markdown",
      "metadata": {},
      "source": [
        "# This notebook was originally made by Jesse Hoogland (based on code by Marius Hobbhahn and Neel Nanda), and then modified for the DOTS use case with permission from Jesse\n",
        "(some of the code from here also moved into models.py and modified to be appropriate for this use case)"
      ]
    },
    {
      "cell_type": "code",
      "execution_count": 2,
      "metadata": {
        "colab": {
          "base_uri": "https://localhost:8080/"
        },
        "id": "QMG4co7KJoJn",
        "outputId": "92ec1a0a-0c0e-4093-e963-bad609a79b37"
      },
      "outputs": [
        {
          "name": "stdout",
          "output_type": "stream",
          "text": [
            "Wed May 24 16:10:11 2023       \n",
            "+-----------------------------------------------------------------------------+\n",
            "| NVIDIA-SMI 525.105.17   Driver Version: 525.105.17   CUDA Version: 12.0     |\n",
            "|-------------------------------+----------------------+----------------------+\n",
            "| GPU  Name        Persistence-M| Bus-Id        Disp.A | Volatile Uncorr. ECC |\n",
            "| Fan  Temp  Perf  Pwr:Usage/Cap|         Memory-Usage | GPU-Util  Compute M. |\n",
            "|                               |                      |               MIG M. |\n",
            "|===============================+======================+======================|\n",
            "|   0  NVIDIA A100-SXM...  On   | 00000000:C1:00.0 Off |                    0 |\n",
            "| N/A   35C    P0    75W / 500W |  52719MiB / 81920MiB |      0%      Default |\n",
            "|                               |                      |             Disabled |\n",
            "+-------------------------------+----------------------+----------------------+\n",
            "                                                                               \n",
            "+-----------------------------------------------------------------------------+\n",
            "| Processes:                                                                  |\n",
            "|  GPU   GI   CI        PID   Type   Process name                  GPU Memory |\n",
            "|        ID   ID                                                   Usage      |\n",
            "|=============================================================================|\n",
            "|    0   N/A  N/A   1313446      C   ...onda/envs/dots/bin/python    52716MiB |\n",
            "+-----------------------------------------------------------------------------+\n"
          ]
        }
      ],
      "source": [
        "!nvidia-smi"
      ]
    },
    {
      "attachments": {},
      "cell_type": "markdown",
      "metadata": {
        "id": "aQRKn3EUJtMJ"
      },
      "source": [
        "# Set-up"
      ]
    },
    {
      "attachments": {},
      "cell_type": "markdown",
      "metadata": {
        "id": "i_3I309QzIaD"
      },
      "source": [
        "## Imports"
      ]
    },
    {
      "cell_type": "code",
      "execution_count": 17,
      "metadata": {
        "id": "y-GhA10lDL2L"
      },
      "outputs": [
        {
          "name": "stdout",
          "output_type": "stream",
          "text": [
            "The autoreload extension is already loaded. To reload it, use:\n",
            "  %reload_ext autoreload\n"
          ]
        }
      ],
      "source": [
        "\n",
        "%load_ext autoreload\n",
        "%autoreload 2\n",
        "import sys\n",
        "sys.path.append(\"..\")\n",
        "\n",
        "import random\n",
        "import time\n",
        "from pathlib import Path\n",
        "import pickle\n",
        "import os\n",
        "import copy\n",
        "from collections import OrderedDict\n",
        "import functools\n",
        "import itertools\n",
        "import gc\n",
        "\n",
        "import numpy as np\n",
        "import matplotlib.pyplot as plt\n",
        "import einops\n",
        "import torch\n",
        "import torch.nn as nn\n",
        "import torch.nn.functional as F\n",
        "import torch.optim as optim\n",
        "from torch.utils.data import DataLoader\n",
        "from tqdm.notebook import tqdm, trange\n",
        "import plotly.express as px\n",
        "import plotly.io as pio\n",
        "import plotly.graph_objects as go\n",
        "import pandas as pd\n",
        "\n",
        "from dots.utils import *\n",
        "from dots.models import *\n",
        "\n",
        "# pio.renderers.default = \"colab\"\n",
        "%matplotlib inline"
      ]
    },
    {
      "attachments": {},
      "cell_type": "markdown",
      "metadata": {
        "id": "-KjIIagYzIaE"
      },
      "source": [
        "## Hyperparameters"
      ]
    },
    {
      "cell_type": "code",
      "execution_count": 4,
      "metadata": {
        "colab": {
          "base_uri": "https://localhost:8080/"
        },
        "id": "L-Hmy9yUejxr",
        "outputId": "0e2cae20-f0c8-4eea-d1b8-dd27af599586"
      },
      "outputs": [
        {
          "name": "stdout",
          "output_type": "stream",
          "text": [
            "cuda\n"
          ]
        }
      ],
      "source": [
        "DEVICE = torch.device(\"cuda\" if torch.cuda.is_available() else \"cpu\")\n",
        "print(DEVICE)"
      ]
    },
    {
      "cell_type": "code",
      "execution_count": 5,
      "metadata": {
        "id": "SbJtl3CqMkDg"
      },
      "outputs": [],
      "source": [
        "lr=1e-3 #@param\n",
        "weight_decay = 0.1 #@param \n",
        "p=113 #@param\n",
        "d_model = 128 #@param\n",
        "fn_name = 'add' #@param ['add', 'subtract', 'x2xyy2','rand']\n",
        "frac_train = 0.3 #@param\n",
        "NUM_EPOCHS = 100000 #@param\n",
        "save_models = False #@param\n",
        "save_every = 1000 #@param\n",
        "# Stop training when test loss is <stopping_thresh\n",
        "stopping_thresh = -1 #@param\n",
        "seed = 0 #@param\n",
        "num_layers = 1\n",
        "batch_style = 'full'\n",
        "d_vocab = p+1 \n",
        "n_ctx = 3\n",
        "d_mlp = 4*d_model\n",
        "num_heads = 4\n",
        "assert d_model % num_heads == 0\n",
        "d_head = d_model//num_heads\n",
        "act_type = 'ReLU' #@param ['ReLU', 'GeLU']\n",
        "#batch_size = BATCH_SIZE"
      ]
    },
    {
      "cell_type": "code",
      "execution_count": 6,
      "metadata": {
        "id": "WtNSxWvUeJQf"
      },
      "outputs": [],
      "source": [
        "def cross_entropy_high_precision(logits, labels):\n",
        "    # Shapes: batch x vocab, batch  \n",
        "    # Cast logits to float64 because log_softmax has a float32 underflow on overly \n",
        "    # confident data and can only return multiples of 1.2e-7 (the smallest float x\n",
        "    # such that 1+x is different from 1 in float32). This leads to loss spikes \n",
        "    # and dodgy gradients\n",
        "    logprobs = F.log_softmax(logits.to(torch.float64), dim=-1)\n",
        "    prediction_logprobs = torch.gather(logprobs, index=labels[:, None], dim=-1)\n",
        "    loss = -torch.mean(prediction_logprobs)\n",
        "    return loss\n",
        "\n",
        "def full_loss(model, data):\n",
        "    # Take the final position only\n",
        "    logits = model(data)[:, -1]\n",
        "    labels = torch.tensor([fn(i, j) for i, j, _ in data]).to('cuda')\n",
        "    return cross_entropy_high_precision(logits, labels)"
      ]
    },
    {
      "cell_type": "code",
      "execution_count": 7,
      "metadata": {
        "colab": {
          "base_uri": "https://localhost:8080/"
        },
        "id": "jJj8C0ddWAia",
        "outputId": "9006ce1e-5051-402e-f389-797922ad11e0"
      },
      "outputs": [
        {
          "data": {
            "text/plain": [
              "<torch._C.Generator at 0x14da2fe26a70>"
            ]
          },
          "execution_count": 7,
          "metadata": {},
          "output_type": "execute_result"
        }
      ],
      "source": [
        "## set torch seed \n",
        "SEED = 0\n",
        "torch.manual_seed(SEED)"
      ]
    },
    {
      "attachments": {},
      "cell_type": "markdown",
      "metadata": {
        "id": "kQQztyYeRQEx"
      },
      "source": [
        "# Data\n",
        "\n",
        "As described in Neel's post, every input sequence is of the form `(i, j, num)` where the target is `i+j mod num`"
      ]
    },
    {
      "cell_type": "code",
      "execution_count": 8,
      "metadata": {
        "colab": {
          "base_uri": "https://localhost:8080/"
        },
        "id": "YJC_ppDnHGFi",
        "outputId": "bdf9229d-e317-4f24-fe6c-f67b1a8456d1"
      },
      "outputs": [
        {
          "name": "stdout",
          "output_type": "stream",
          "text": [
            "3830 8939\n",
            "[(18, 34, 113), (10, 83, 113), (55, 28, 113), (25, 51, 113), (63, 65, 113), (14, 104, 113), (27, 56, 113), (35, 77, 113), (41, 72, 113), (17, 111, 113)]\n",
            "[(50, 67, 113), (92, 107, 113), (29, 14, 113), (76, 53, 113), (78, 80, 113), (77, 58, 113), (97, 1, 113), (39, 59, 113), (95, 73, 113), (38, 40, 113)]\n"
          ]
        }
      ],
      "source": [
        "def gen_train_test(frac_train = 0.3, num = 113, seed=0):\n",
        "    # Generate train and test split\n",
        "    pairs = [(i, j, num) for i in range(num) for j in range(num)]\n",
        "    random.seed(seed)\n",
        "    random.shuffle(pairs)\n",
        "    div = int(frac_train*len(pairs))\n",
        "    return pairs[:div], pairs[div:]\n",
        "\n",
        "train_x, test_x = gen_train_test(frac_train, 113, seed=0)\n",
        "print(len(train_x), len(test_x))\n",
        "\n",
        "print(train_x[:10])\n",
        "print(test_x[:10])"
      ]
    },
    {
      "cell_type": "code",
      "execution_count": 9,
      "metadata": {
        "colab": {
          "base_uri": "https://localhost:8080/"
        },
        "id": "U2hZ_EotSjjP",
        "outputId": "d10fd72a-6e9f-4b21-e738-56d75377049f"
      },
      "outputs": [
        {
          "name": "stdout",
          "output_type": "stream",
          "text": [
            "1\n",
            "tensor([[ 18,  34, 113],\n",
            "        [ 10,  83, 113],\n",
            "        [ 55,  28, 113],\n",
            "        [ 25,  51, 113],\n",
            "        [ 63,  65, 113],\n",
            "        [ 14, 104, 113],\n",
            "        [ 27,  56, 113],\n",
            "        [ 35,  77, 113],\n",
            "        [ 41,  72, 113],\n",
            "        [ 17, 111, 113]], device='cuda:0')\n",
            "tensor([ 52,  93,  83,  76,  15,   5,  83, 112,   0,  15], device='cuda:0')\n"
          ]
        }
      ],
      "source": [
        "### create training and test samples in batches\n",
        "\n",
        "def collate_batch(batch):\n",
        "    label_list = [(i+j) % num for (i,j,num) in batch]\n",
        "    label_list = torch.tensor(label_list, dtype=torch.int64)\n",
        "    input_list = [torch.tensor(x) for x in batch]\n",
        "    input_list = torch.cat(input_list).view(len(label_list), -1)\n",
        "    return input_list.to(DEVICE), label_list.to(DEVICE)\n",
        "\n",
        "# one batch per loader\n",
        "train_loader = DataLoader(train_x, batch_size=len(train_x), collate_fn=collate_batch)\n",
        "test_loader = DataLoader(test_x, batch_size=len(test_x), collate_fn=collate_batch)\n",
        "\n",
        "print(len(train_loader))\n",
        "for x, y in train_loader:\n",
        "    print(x[:10])\n",
        "    print(y[:10])"
      ]
    },
    {
      "cell_type": "code",
      "execution_count": 10,
      "metadata": {
        "id": "jVNVSf5QHrvg"
      },
      "outputs": [],
      "source": [
        "def loss_of_final_number(logits, labels):\n",
        "    # only look at predictions of last numbers\n",
        "    logits = logits[:,-1]\n",
        "    # compute individual and summed losses for final number\n",
        "    logprobs = F.log_softmax(logits.to(torch.float64), dim=-1)\n",
        "    prediction_logprobs = torch.gather(logprobs, index=labels.unsqueeze(1), dim=-1)\n",
        "    loss = -torch.mean(prediction_logprobs)\n",
        "    return loss"
      ]
    },
    {
      "cell_type": "code",
      "execution_count": 16,
      "metadata": {},
      "outputs": [
        {
          "name": "stdout",
          "output_type": "stream",
          "text": [
            "x: torch.Size([8939, 3])\n"
          ]
        }
      ],
      "source": [
        "for x, y in test_loader:\n",
        "    print(f\"x: {x.shape}\")"
      ]
    },
    {
      "attachments": {},
      "cell_type": "markdown",
      "metadata": {
        "id": "i-uw7vjcMPs2"
      },
      "source": [
        "# Training"
      ]
    },
    {
      "cell_type": "code",
      "execution_count": 11,
      "metadata": {
        "id": "OvGgSJO0iNW7"
      },
      "outputs": [],
      "source": [
        "model = Transformer(num_layers=num_layers, d_vocab=d_vocab, d_model=d_model, d_mlp=d_mlp, \n",
        "                    d_head=d_head, num_heads=num_heads, n_ctx=n_ctx, act_type=act_type, use_ln=False).to(DEVICE)\n",
        "optimizer = optim.AdamW(model.parameters(), lr=lr, weight_decay=weight_decay, betas=(0.9, 0.98))"
      ]
    },
    {
      "cell_type": "code",
      "execution_count": 13,
      "metadata": {},
      "outputs": [
        {
          "data": {
            "text/plain": [
              "Transformer(\n",
              "  (embed): Embed()\n",
              "  (pos_embed): PosEmbed()\n",
              "  (blocks): ModuleList(\n",
              "    (0): TransformerBlock(\n",
              "      (attn): Attention()\n",
              "      (mlp): TransformerMLP()\n",
              "    )\n",
              "  )\n",
              "  (unembed): Unembed()\n",
              ")"
            ]
          },
          "execution_count": 13,
          "metadata": {},
          "output_type": "execute_result"
        }
      ],
      "source": [
        "model"
      ]
    },
    {
      "cell_type": "code",
      "execution_count": 12,
      "metadata": {},
      "outputs": [
        {
          "data": {
            "text/plain": [
              "226816"
            ]
          },
          "execution_count": 12,
          "metadata": {},
          "output_type": "execute_result"
        }
      ],
      "source": [
        "model.count_params()"
      ]
    },
    {
      "cell_type": "code",
      "execution_count": 14,
      "metadata": {},
      "outputs": [
        {
          "data": {
            "text/plain": [
              "1000"
            ]
          },
          "execution_count": 14,
          "metadata": {},
          "output_type": "execute_result"
        }
      ],
      "source": [
        "save_every"
      ]
    },
    {
      "cell_type": "code",
      "execution_count": 20,
      "metadata": {},
      "outputs": [],
      "source": [
        "calc_rank_on = next(iter(test_loader))[0][:20]"
      ]
    },
    {
      "cell_type": "code",
      "execution_count": 21,
      "metadata": {},
      "outputs": [
        {
          "data": {
            "text/plain": [
              "torch.Size([20, 3])"
            ]
          },
          "execution_count": 21,
          "metadata": {},
          "output_type": "execute_result"
        }
      ],
      "source": [
        "calc_rank_on.shape"
      ]
    },
    {
      "cell_type": "code",
      "execution_count": null,
      "metadata": {
        "colab": {
          "base_uri": "https://localhost:8080/",
          "height": 268,
          "referenced_widgets": [
            "716534a4809f4913b8e00af9ca6932f7",
            "655afc422c234f32898b3cf882b5dbb1",
            "80fd42c4658949cabdaf06915991bdee",
            "20592f0e4eae4ad4acc2ce109d74e5d8",
            "a3eab1006ae749eea2a9a3f06e67328d",
            "2b14bc84876e4672912e8b45eea35302",
            "a7e1bb601ebd4892a4c588e970942b37",
            "1973f9f8fea8475f88ba9b6b96b84315",
            "0c5bb3a4bc0b45f39d2ac69d848f9949",
            "760d646cf01841f1b7415fabf17f705b",
            "f702522549c148cd91dd0fb850c65305"
          ]
        },
        "id": "TAvIGoOvJ0wa",
        "outputId": "69be312a-b095-416d-c531-8d8324f52a69"
      },
      "outputs": [
        {
          "data": {
            "application/vnd.jupyter.widget-view+json": {
              "model_id": "716534a4809f4913b8e00af9ca6932f7",
              "version_major": 2,
              "version_minor": 0
            },
            "text/plain": [
              "Epoch:   0%|          | 0/100000 [00:00<?, ?it/s]"
            ]
          },
          "metadata": {},
          "output_type": "display_data"
        },
        {
          "name": "stdout",
          "output_type": "stream",
          "text": [
            "epoch 0; training loss 4.773175904538197;\n",
            "training acc 0.007832897827029228;\n",
            "test loss: 4.75079120766905\n",
            "test acc: 0.007942723110318184\n",
            "\n",
            "\n",
            "epoch 1000; training loss 5.40251017844247e-07;\n",
            "training acc 1.0;\n",
            "test loss: 30.236904912390013\n",
            "test acc: 0.2056158483028412\n",
            "\n",
            "\n"
          ]
        }
      ],
      "source": [
        "# train\n",
        "train_losses = []\n",
        "test_losses = []\n",
        "train_accs = []\n",
        "test_accs = []\n",
        "ranks = []\n",
        "\n",
        "weights_epochs = {}\n",
        "grads_epochs = {}\n",
        "\n",
        "for i in trange(NUM_EPOCHS, desc=\"Epoch\"):\n",
        "    final_digit_loss = 0\n",
        "    for j, (x, y) in enumerate(train_loader):\n",
        "\n",
        "        optimizer.zero_grad()\n",
        "        x, y = x.to(DEVICE), y.to(DEVICE)\n",
        "        out = model(x)\n",
        "        train_loss = loss_of_final_number(out, y)\n",
        "        sm_argmax = nn.functional.softmax(out, dim=-1).argmax(dim=-1)[:, -1].detach()\n",
        "        correct = (y == sm_argmax.view(-1)).detach()\n",
        "\n",
        "        train_loss.backward()\n",
        "        optimizer.step()\n",
        "\n",
        "        final_digit_loss += train_loss.item()\n",
        "\n",
        "    train_losses.append(final_digit_loss)\n",
        "    train_accs.append(correct.float().mean().item())\n",
        "\n",
        "    if i % save_every == 0:\n",
        "        t.save(model, f\"grok_{prepend_zeros(5, i)}.pt\")\n",
        "        ranks.append(\n",
        "            model.jacobian_matrix_rank(calc_rank_on)\n",
        "        )\n",
        "        \n",
        "        print(\"epoch {}; training loss {};\".format(i, final_digit_loss))\n",
        "        print(\"training acc {};\".format(correct.float().mean()))\n",
        "        # run a test every N iterations\n",
        "        for x, y in test_loader:\n",
        "\n",
        "            x, y = x.to(DEVICE), y.to(DEVICE)\n",
        "            out = model(x)\n",
        "            test_loss = loss_of_final_number(out, y)\n",
        "            sm_argmax = nn.functional.softmax(out, dim=-1).argmax(dim=-1)[:, -1].detach()\n",
        "            correct = (y == sm_argmax.view(-1)).detach()\n",
        "\n",
        "        print(\"test loss: {}\".format(test_loss.item()))\n",
        "        print(\"test acc: {}\".format(correct.float().mean()))\n",
        "        test_losses.append(test_loss.item())\n",
        "        test_accs.append(correct.float().mean().item())\n",
        "\n",
        "        print(\"\\n\")\n",
        "\n",
        "        # store the weights\n",
        "        weights_epochs[\"weights_epoch_{}\".format(i)] = copy.deepcopy(model.state_dict())\n",
        "\n",
        "        # get and store gradients\n",
        "        gradient_dict = OrderedDict()\n",
        "        for name, param in model.named_parameters():\n",
        "            gradient_dict[\"grad_{}\".format(name)] = copy.deepcopy(param.grad)\n",
        "\n",
        "        grads_epochs[\"grads_epoch_{}\".format(i)] = gradient_dict\n"
      ]
    },
    {
      "cell_type": "code",
      "execution_count": 23,
      "metadata": {},
      "outputs": [
        {
          "ename": "NameError",
          "evalue": "name 'ranks' is not defined",
          "output_type": "error",
          "traceback": [
            "\u001b[0;31m---------------------------------------------------------------------------\u001b[0m",
            "\u001b[0;31mNameError\u001b[0m                                 Traceback (most recent call last)",
            "Cell \u001b[0;32mIn[23], line 1\u001b[0m\n\u001b[0;32m----> 1\u001b[0m ranks\n",
            "\u001b[0;31mNameError\u001b[0m: name 'ranks' is not defined"
          ]
        }
      ],
      "source": [
        "ranks"
      ]
    },
    {
      "cell_type": "code",
      "execution_count": null,
      "metadata": {
        "colab": {
          "base_uri": "https://localhost:8080/"
        },
        "id": "BPYjsCjBHE5_",
        "outputId": "fca55acf-7b58-482d-8156-a697fdd20fa4"
      },
      "outputs": [
        {
          "name": "stdout",
          "output_type": "stream",
          "text": [
            "torch.Size([3830, 3])\n",
            "input:  tensor([[ 18,  34, 113],\n",
            "        [ 10,  83, 113],\n",
            "        [ 55,  28, 113],\n",
            "        [ 25,  51, 113],\n",
            "        [ 63,  65, 113],\n",
            "        [ 14, 104, 113],\n",
            "        [ 27,  56, 113],\n",
            "        [ 35,  77, 113],\n",
            "        [ 41,  72, 113],\n",
            "        [ 17, 111, 113]], device='cuda:0')\n",
            "label:  tensor([ 52,  93,  83,  76,  15,   5,  83, 112,   0,  15], device='cuda:0')\n",
            "argmax prediction:  tensor([ 52,  93,  83,  76,  15,   5,  83, 112,   0,  15], device='cuda:0')\n",
            "same:  tensor([True, True, True, True, True, True, True, True, True, True],\n",
            "       device='cuda:0')\n"
          ]
        }
      ],
      "source": [
        "## did it learn the training dist?\n",
        "for x, y in train_loader:\n",
        "    out = model(x.to(DEVICE))\n",
        "    sm_argmax = nn.functional.softmax(out, dim=-1).argmax(dim=-1)[:10, -1].detach()\n",
        "    input = x[:10, :]\n",
        "    print(x.size())\n",
        "    print(\"input: \", input)\n",
        "    label = y[:10]\n",
        "    print(\"label: \", label[:10])\n",
        "    print(\"argmax prediction: \", sm_argmax)\n",
        "    print(\"same: \", label[:10] == sm_argmax)\n",
        "    break"
      ]
    },
    {
      "cell_type": "code",
      "execution_count": null,
      "metadata": {
        "colab": {
          "base_uri": "https://localhost:8080/"
        },
        "id": "TrvXHoIdqh_y",
        "outputId": "6d53c416-aec7-4a41-fd88-dcecc89b71fb"
      },
      "outputs": [
        {
          "name": "stdout",
          "output_type": "stream",
          "text": [
            "torch.Size([8939, 3])\n",
            "input:  tensor([[ 50,  67, 113],\n",
            "        [ 92, 107, 113],\n",
            "        [ 29,  14, 113],\n",
            "        [ 76,  53, 113],\n",
            "        [ 78,  80, 113],\n",
            "        [ 77,  58, 113],\n",
            "        [ 97,   1, 113],\n",
            "        [ 39,  59, 113],\n",
            "        [ 95,  73, 113],\n",
            "        [ 38,  40, 113]], device='cuda:0')\n",
            "label:  tensor([ 4, 86, 43, 16, 45, 22, 98, 98, 55, 78], device='cuda:0')\n",
            "argmax prediction:  tensor([ 4, 86, 43, 16, 45, 22, 98, 98, 55, 78], device='cuda:0')\n",
            "same:  tensor([True, True, True, True, True, True, True, True, True, True],\n",
            "       device='cuda:0')\n"
          ]
        }
      ],
      "source": [
        "## test stuff\n",
        "\n",
        "for x, y in test_loader:\n",
        "    out = model(x.to(DEVICE))\n",
        "    sm_argmax = nn.functional.softmax(out, dim=-1).argmax(dim=-1)[:10, -1].detach()\n",
        "    input = x[:10, :]\n",
        "    print(x.size())\n",
        "    print(\"input: \", input)\n",
        "    label = y[:10]\n",
        "    print(\"label: \", label[:10])\n",
        "    print(\"argmax prediction: \", sm_argmax)\n",
        "    print(\"same: \", label[:10] == sm_argmax)\n",
        "    break"
      ]
    },
    {
      "cell_type": "code",
      "execution_count": null,
      "metadata": {
        "colab": {
          "base_uri": "https://localhost:8080/",
          "height": 874
        },
        "id": "zH0kbwG7J0ro",
        "outputId": "8216b8e6-0cf9-4d9a-a819-e87fee17c5f1"
      },
      "outputs": [
        {
          "data": {
            "image/png": "[encoded data removed]",
            "text/plain": [
              "<Figure size 1500x1050 with 2 Axes>"
            ]
          },
          "metadata": {
            "needs_background": "light"
          },
          "output_type": "display_data"
        }
      ],
      "source": [
        "## plot the training and test loss\n",
        "x_train = np.arange(len(train_losses)) \n",
        "x_test = np.arange(len(test_losses)) * save_every\n",
        " \n",
        "fig, ax = plt.subplots(2,1,figsize=(10, 7), dpi=150)\n",
        "\n",
        "ax[0].grid()\n",
        "ax[0].plot(x_train, train_losses, color=\"cornflowerblue\", label=\"train loss\")\n",
        "ax[0].plot(x_test, test_losses, color=\"firebrick\", label=\"test loss\")\n",
        "ax[0].legend()\n",
        "ax[0].set_yscale(\"log\")\n",
        "\n",
        "ax[1].grid()\n",
        "ax[1].plot(x_train, train_accs, color=\"cornflowerblue\", label=\"train acc\")\n",
        "ax[1].plot(x_test, test_accs, color=\"firebrick\", label=\"test acc\")\n",
        "ax[1].legend()\n",
        "\n",
        "plt.show()"
      ]
    }
  ],
  "metadata": {
    "accelerator": "GPU",
    "colab": {
      "provenance": []
    },
    "gpuClass": "standard",
    "kernelspec": {
      "display_name": "notes",
      "language": "python",
      "name": "python3"
    },
    "language_info": {
      "codemirror_mode": {
        "name": "ipython",
        "version": 3
      },
      "file_extension": ".py",
      "mimetype": "text/x-python",
      "name": "python",
      "nbconvert_exporter": "python",
      "pygments_lexer": "ipython3",
      "version": "3.10.4"
    },
    "vscode": {
      "interpreter": {
        "hash": "10e632b798d4d368e3d8cd91eeec2b91ea4b8c349bc8b89a8c3db002c19b56bb"
      }
    },
    "widgets": {
      "application/vnd.jupyter.widget-state+json": {
        "0b40b1646bbb4ed9a1eceaa0bf3d5e81": {
          "model_module": "@jupyter-widgets/controls",
          "model_module_version": "1.5.0",
          "model_name": "HBoxModel",
          "state": {
            "_dom_classes": [],
            "_model_module": "@jupyter-widgets/controls",
            "_model_module_version": "1.5.0",
            "_model_name": "HBoxModel",
            "_view_count": null,
            "_view_module": "@jupyter-widgets/controls",
            "_view_module_version": "1.5.0",
            "_view_name": "HBoxView",
            "box_style": "",
            "children": [
              "IPY_MODEL_39aaaaeecb3b43ad9b3d6541103d1ed7",
              "IPY_MODEL_bfbb30b4f8404d479406816c1a690581",
              "IPY_MODEL_850f4a0a85b14c8ba03a8fbabd35321c"
            ],
            "layout": "IPY_MODEL_2236572ce8904326a733ae3c83d032fe"
          }
        },
        "0c5bb3a4bc0b45f39d2ac69d848f9949": {
          "model_module": "@jupyter-widgets/controls",
          "model_module_version": "1.5.0",
          "model_name": "ProgressStyleModel",
          "state": {
            "_model_module": "@jupyter-widgets/controls",
            "_model_module_version": "1.5.0",
            "_model_name": "ProgressStyleModel",
            "_view_count": null,
            "_view_module": "@jupyter-widgets/base",
            "_view_module_version": "1.2.0",
            "_view_name": "StyleView",
            "bar_color": null,
            "description_width": ""
          }
        },
        "1973f9f8fea8475f88ba9b6b96b84315": {
          "model_module": "@jupyter-widgets/base",
          "model_module_version": "1.2.0",
          "model_name": "LayoutModel",
          "state": {
            "_model_module": "@jupyter-widgets/base",
            "_model_module_version": "1.2.0",
            "_model_name": "LayoutModel",
            "_view_count": null,
            "_view_module": "@jupyter-widgets/base",
            "_view_module_version": "1.2.0",
            "_view_name": "LayoutView",
            "align_content": null,
            "align_items": null,
            "align_self": null,
            "border": null,
            "bottom": null,
            "display": null,
            "flex": null,
            "flex_flow": null,
            "grid_area": null,
            "grid_auto_columns": null,
            "grid_auto_flow": null,
            "grid_auto_rows": null,
            "grid_column": null,
            "grid_gap": null,
            "grid_row": null,
            "grid_template_areas": null,
            "grid_template_columns": null,
            "grid_template_rows": null,
            "height": null,
            "justify_content": null,
            "justify_items": null,
            "left": null,
            "margin": null,
            "max_height": null,
            "max_width": null,
            "min_height": null,
            "min_width": null,
            "object_fit": null,
            "object_position": null,
            "order": null,
            "overflow": null,
            "overflow_x": null,
            "overflow_y": null,
            "padding": null,
            "right": null,
            "top": null,
            "visibility": null,
            "width": null
          }
        },
        "20592f0e4eae4ad4acc2ce109d74e5d8": {
          "model_module": "@jupyter-widgets/controls",
          "model_module_version": "1.5.0",
          "model_name": "HTMLModel",
          "state": {
            "_dom_classes": [],
            "_model_module": "@jupyter-widgets/controls",
            "_model_module_version": "1.5.0",
            "_model_name": "HTMLModel",
            "_view_count": null,
            "_view_module": "@jupyter-widgets/controls",
            "_view_module_version": "1.5.0",
            "_view_name": "HTMLView",
            "description": "",
            "description_tooltip": null,
            "layout": "IPY_MODEL_760d646cf01841f1b7415fabf17f705b",
            "placeholder": "​",
            "style": "IPY_MODEL_f702522549c148cd91dd0fb850c65305",
            "value": " 1044/100000 [00:47&lt;1:21:25, 20.25it/s]"
          }
        },
        "2236572ce8904326a733ae3c83d032fe": {
          "model_module": "@jupyter-widgets/base",
          "model_module_version": "1.2.0",
          "model_name": "LayoutModel",
          "state": {
            "_model_module": "@jupyter-widgets/base",
            "_model_module_version": "1.2.0",
            "_model_name": "LayoutModel",
            "_view_count": null,
            "_view_module": "@jupyter-widgets/base",
            "_view_module_version": "1.2.0",
            "_view_name": "LayoutView",
            "align_content": null,
            "align_items": null,
            "align_self": null,
            "border": null,
            "bottom": null,
            "display": null,
            "flex": null,
            "flex_flow": null,
            "grid_area": null,
            "grid_auto_columns": null,
            "grid_auto_flow": null,
            "grid_auto_rows": null,
            "grid_column": null,
            "grid_gap": null,
            "grid_row": null,
            "grid_template_areas": null,
            "grid_template_columns": null,
            "grid_template_rows": null,
            "height": null,
            "justify_content": null,
            "justify_items": null,
            "left": null,
            "margin": null,
            "max_height": null,
            "max_width": null,
            "min_height": null,
            "min_width": null,
            "object_fit": null,
            "object_position": null,
            "order": null,
            "overflow": null,
            "overflow_x": null,
            "overflow_y": null,
            "padding": null,
            "right": null,
            "top": null,
            "visibility": null,
            "width": null
          }
        },
        "250f2c58d1da4edf820d9536ee5fa78b": {
          "model_module": "@jupyter-widgets/controls",
          "model_module_version": "1.5.0",
          "model_name": "DescriptionStyleModel",
          "state": {
            "_model_module": "@jupyter-widgets/controls",
            "_model_module_version": "1.5.0",
            "_model_name": "DescriptionStyleModel",
            "_view_count": null,
            "_view_module": "@jupyter-widgets/base",
            "_view_module_version": "1.2.0",
            "_view_name": "StyleView",
            "description_width": ""
          }
        },
        "2b14bc84876e4672912e8b45eea35302": {
          "model_module": "@jupyter-widgets/base",
          "model_module_version": "1.2.0",
          "model_name": "LayoutModel",
          "state": {
            "_model_module": "@jupyter-widgets/base",
            "_model_module_version": "1.2.0",
            "_model_name": "LayoutModel",
            "_view_count": null,
            "_view_module": "@jupyter-widgets/base",
            "_view_module_version": "1.2.0",
            "_view_name": "LayoutView",
            "align_content": null,
            "align_items": null,
            "align_self": null,
            "border": null,
            "bottom": null,
            "display": null,
            "flex": null,
            "flex_flow": null,
            "grid_area": null,
            "grid_auto_columns": null,
            "grid_auto_flow": null,
            "grid_auto_rows": null,
            "grid_column": null,
            "grid_gap": null,
            "grid_row": null,
            "grid_template_areas": null,
            "grid_template_columns": null,
            "grid_template_rows": null,
            "height": null,
            "justify_content": null,
            "justify_items": null,
            "left": null,
            "margin": null,
            "max_height": null,
            "max_width": null,
            "min_height": null,
            "min_width": null,
            "object_fit": null,
            "object_position": null,
            "order": null,
            "overflow": null,
            "overflow_x": null,
            "overflow_y": null,
            "padding": null,
            "right": null,
            "top": null,
            "visibility": null,
            "width": null
          }
        },
        "2e6009a91ffd45e1b97352d4634f0270": {
          "model_module": "@jupyter-widgets/controls",
          "model_module_version": "1.5.0",
          "model_name": "ProgressStyleModel",
          "state": {
            "_model_module": "@jupyter-widgets/controls",
            "_model_module_version": "1.5.0",
            "_model_name": "ProgressStyleModel",
            "_view_count": null,
            "_view_module": "@jupyter-widgets/base",
            "_view_module_version": "1.2.0",
            "_view_name": "StyleView",
            "bar_color": null,
            "description_width": ""
          }
        },
        "31094f9ec4454999ad2add6cfc4d2fb5": {
          "model_module": "@jupyter-widgets/base",
          "model_module_version": "1.2.0",
          "model_name": "LayoutModel",
          "state": {
            "_model_module": "@jupyter-widgets/base",
            "_model_module_version": "1.2.0",
            "_model_name": "LayoutModel",
            "_view_count": null,
            "_view_module": "@jupyter-widgets/base",
            "_view_module_version": "1.2.0",
            "_view_name": "LayoutView",
            "align_content": null,
            "align_items": null,
            "align_self": null,
            "border": null,
            "bottom": null,
            "display": null,
            "flex": null,
            "flex_flow": null,
            "grid_area": null,
            "grid_auto_columns": null,
            "grid_auto_flow": null,
            "grid_auto_rows": null,
            "grid_column": null,
            "grid_gap": null,
            "grid_row": null,
            "grid_template_areas": null,
            "grid_template_columns": null,
            "grid_template_rows": null,
            "height": null,
            "justify_content": null,
            "justify_items": null,
            "left": null,
            "margin": null,
            "max_height": null,
            "max_width": null,
            "min_height": null,
            "min_width": null,
            "object_fit": null,
            "object_position": null,
            "order": null,
            "overflow": null,
            "overflow_x": null,
            "overflow_y": null,
            "padding": null,
            "right": null,
            "top": null,
            "visibility": null,
            "width": null
          }
        },
        "370ad423c97d49b6834e05df39849fe2": {
          "model_module": "@jupyter-widgets/base",
          "model_module_version": "1.2.0",
          "model_name": "LayoutModel",
          "state": {
            "_model_module": "@jupyter-widgets/base",
            "_model_module_version": "1.2.0",
            "_model_name": "LayoutModel",
            "_view_count": null,
            "_view_module": "@jupyter-widgets/base",
            "_view_module_version": "1.2.0",
            "_view_name": "LayoutView",
            "align_content": null,
            "align_items": null,
            "align_self": null,
            "border": null,
            "bottom": null,
            "display": null,
            "flex": null,
            "flex_flow": null,
            "grid_area": null,
            "grid_auto_columns": null,
            "grid_auto_flow": null,
            "grid_auto_rows": null,
            "grid_column": null,
            "grid_gap": null,
            "grid_row": null,
            "grid_template_areas": null,
            "grid_template_columns": null,
            "grid_template_rows": null,
            "height": null,
            "justify_content": null,
            "justify_items": null,
            "left": null,
            "margin": null,
            "max_height": null,
            "max_width": null,
            "min_height": null,
            "min_width": null,
            "object_fit": null,
            "object_position": null,
            "order": null,
            "overflow": null,
            "overflow_x": null,
            "overflow_y": null,
            "padding": null,
            "right": null,
            "top": null,
            "visibility": null,
            "width": null
          }
        },
        "39aaaaeecb3b43ad9b3d6541103d1ed7": {
          "model_module": "@jupyter-widgets/controls",
          "model_module_version": "1.5.0",
          "model_name": "HTMLModel",
          "state": {
            "_dom_classes": [],
            "_model_module": "@jupyter-widgets/controls",
            "_model_module_version": "1.5.0",
            "_model_name": "HTMLModel",
            "_view_count": null,
            "_view_module": "@jupyter-widgets/controls",
            "_view_module_version": "1.5.0",
            "_view_name": "HTMLView",
            "description": "",
            "description_tooltip": null,
            "layout": "IPY_MODEL_31094f9ec4454999ad2add6cfc4d2fb5",
            "placeholder": "​",
            "style": "IPY_MODEL_250f2c58d1da4edf820d9536ee5fa78b",
            "value": "Epoch:  50%"
          }
        },
        "4adc70c0224d40ddb6a74a7ad818ce81": {
          "model_module": "@jupyter-widgets/controls",
          "model_module_version": "1.5.0",
          "model_name": "DescriptionStyleModel",
          "state": {
            "_model_module": "@jupyter-widgets/controls",
            "_model_module_version": "1.5.0",
            "_model_name": "DescriptionStyleModel",
            "_view_count": null,
            "_view_module": "@jupyter-widgets/base",
            "_view_module_version": "1.2.0",
            "_view_name": "StyleView",
            "description_width": ""
          }
        },
        "655afc422c234f32898b3cf882b5dbb1": {
          "model_module": "@jupyter-widgets/controls",
          "model_module_version": "1.5.0",
          "model_name": "HTMLModel",
          "state": {
            "_dom_classes": [],
            "_model_module": "@jupyter-widgets/controls",
            "_model_module_version": "1.5.0",
            "_model_name": "HTMLModel",
            "_view_count": null,
            "_view_module": "@jupyter-widgets/controls",
            "_view_module_version": "1.5.0",
            "_view_name": "HTMLView",
            "description": "",
            "description_tooltip": null,
            "layout": "IPY_MODEL_2b14bc84876e4672912e8b45eea35302",
            "placeholder": "​",
            "style": "IPY_MODEL_a7e1bb601ebd4892a4c588e970942b37",
            "value": "Epoch:   1%"
          }
        },
        "716534a4809f4913b8e00af9ca6932f7": {
          "model_module": "@jupyter-widgets/controls",
          "model_module_version": "1.5.0",
          "model_name": "HBoxModel",
          "state": {
            "_dom_classes": [],
            "_model_module": "@jupyter-widgets/controls",
            "_model_module_version": "1.5.0",
            "_model_name": "HBoxModel",
            "_view_count": null,
            "_view_module": "@jupyter-widgets/controls",
            "_view_module_version": "1.5.0",
            "_view_name": "HBoxView",
            "box_style": "",
            "children": [
              "IPY_MODEL_655afc422c234f32898b3cf882b5dbb1",
              "IPY_MODEL_80fd42c4658949cabdaf06915991bdee",
              "IPY_MODEL_20592f0e4eae4ad4acc2ce109d74e5d8"
            ],
            "layout": "IPY_MODEL_a3eab1006ae749eea2a9a3f06e67328d"
          }
        },
        "760d646cf01841f1b7415fabf17f705b": {
          "model_module": "@jupyter-widgets/base",
          "model_module_version": "1.2.0",
          "model_name": "LayoutModel",
          "state": {
            "_model_module": "@jupyter-widgets/base",
            "_model_module_version": "1.2.0",
            "_model_name": "LayoutModel",
            "_view_count": null,
            "_view_module": "@jupyter-widgets/base",
            "_view_module_version": "1.2.0",
            "_view_name": "LayoutView",
            "align_content": null,
            "align_items": null,
            "align_self": null,
            "border": null,
            "bottom": null,
            "display": null,
            "flex": null,
            "flex_flow": null,
            "grid_area": null,
            "grid_auto_columns": null,
            "grid_auto_flow": null,
            "grid_auto_rows": null,
            "grid_column": null,
            "grid_gap": null,
            "grid_row": null,
            "grid_template_areas": null,
            "grid_template_columns": null,
            "grid_template_rows": null,
            "height": null,
            "justify_content": null,
            "justify_items": null,
            "left": null,
            "margin": null,
            "max_height": null,
            "max_width": null,
            "min_height": null,
            "min_width": null,
            "object_fit": null,
            "object_position": null,
            "order": null,
            "overflow": null,
            "overflow_x": null,
            "overflow_y": null,
            "padding": null,
            "right": null,
            "top": null,
            "visibility": null,
            "width": null
          }
        },
        "80fd42c4658949cabdaf06915991bdee": {
          "model_module": "@jupyter-widgets/controls",
          "model_module_version": "1.5.0",
          "model_name": "FloatProgressModel",
          "state": {
            "_dom_classes": [],
            "_model_module": "@jupyter-widgets/controls",
            "_model_module_version": "1.5.0",
            "_model_name": "FloatProgressModel",
            "_view_count": null,
            "_view_module": "@jupyter-widgets/controls",
            "_view_module_version": "1.5.0",
            "_view_name": "ProgressView",
            "bar_style": "",
            "description": "",
            "description_tooltip": null,
            "layout": "IPY_MODEL_1973f9f8fea8475f88ba9b6b96b84315",
            "max": 100000,
            "min": 0,
            "orientation": "horizontal",
            "style": "IPY_MODEL_0c5bb3a4bc0b45f39d2ac69d848f9949",
            "value": 1044
          }
        },
        "850f4a0a85b14c8ba03a8fbabd35321c": {
          "model_module": "@jupyter-widgets/controls",
          "model_module_version": "1.5.0",
          "model_name": "HTMLModel",
          "state": {
            "_dom_classes": [],
            "_model_module": "@jupyter-widgets/controls",
            "_model_module_version": "1.5.0",
            "_model_name": "HTMLModel",
            "_view_count": null,
            "_view_module": "@jupyter-widgets/controls",
            "_view_module_version": "1.5.0",
            "_view_name": "HTMLView",
            "description": "",
            "description_tooltip": null,
            "layout": "IPY_MODEL_d3f9007c69e04c27989aa08bbd42c8de",
            "placeholder": "​",
            "style": "IPY_MODEL_4adc70c0224d40ddb6a74a7ad818ce81",
            "value": " 29818/60000 [44:25&lt;45:53, 10.96it/s]"
          }
        },
        "a3eab1006ae749eea2a9a3f06e67328d": {
          "model_module": "@jupyter-widgets/base",
          "model_module_version": "1.2.0",
          "model_name": "LayoutModel",
          "state": {
            "_model_module": "@jupyter-widgets/base",
            "_model_module_version": "1.2.0",
            "_model_name": "LayoutModel",
            "_view_count": null,
            "_view_module": "@jupyter-widgets/base",
            "_view_module_version": "1.2.0",
            "_view_name": "LayoutView",
            "align_content": null,
            "align_items": null,
            "align_self": null,
            "border": null,
            "bottom": null,
            "display": null,
            "flex": null,
            "flex_flow": null,
            "grid_area": null,
            "grid_auto_columns": null,
            "grid_auto_flow": null,
            "grid_auto_rows": null,
            "grid_column": null,
            "grid_gap": null,
            "grid_row": null,
            "grid_template_areas": null,
            "grid_template_columns": null,
            "grid_template_rows": null,
            "height": null,
            "justify_content": null,
            "justify_items": null,
            "left": null,
            "margin": null,
            "max_height": null,
            "max_width": null,
            "min_height": null,
            "min_width": null,
            "object_fit": null,
            "object_position": null,
            "order": null,
            "overflow": null,
            "overflow_x": null,
            "overflow_y": null,
            "padding": null,
            "right": null,
            "top": null,
            "visibility": null,
            "width": null
          }
        },
        "a7e1bb601ebd4892a4c588e970942b37": {
          "model_module": "@jupyter-widgets/controls",
          "model_module_version": "1.5.0",
          "model_name": "DescriptionStyleModel",
          "state": {
            "_model_module": "@jupyter-widgets/controls",
            "_model_module_version": "1.5.0",
            "_model_name": "DescriptionStyleModel",
            "_view_count": null,
            "_view_module": "@jupyter-widgets/base",
            "_view_module_version": "1.2.0",
            "_view_name": "StyleView",
            "description_width": ""
          }
        },
        "bfbb30b4f8404d479406816c1a690581": {
          "model_module": "@jupyter-widgets/controls",
          "model_module_version": "1.5.0",
          "model_name": "FloatProgressModel",
          "state": {
            "_dom_classes": [],
            "_model_module": "@jupyter-widgets/controls",
            "_model_module_version": "1.5.0",
            "_model_name": "FloatProgressModel",
            "_view_count": null,
            "_view_module": "@jupyter-widgets/controls",
            "_view_module_version": "1.5.0",
            "_view_name": "ProgressView",
            "bar_style": "",
            "description": "",
            "description_tooltip": null,
            "layout": "IPY_MODEL_370ad423c97d49b6834e05df39849fe2",
            "max": 60000,
            "min": 0,
            "orientation": "horizontal",
            "style": "IPY_MODEL_2e6009a91ffd45e1b97352d4634f0270",
            "value": 29818
          }
        },
        "d3f9007c69e04c27989aa08bbd42c8de": {
          "model_module": "@jupyter-widgets/base",
          "model_module_version": "1.2.0",
          "model_name": "LayoutModel",
          "state": {
            "_model_module": "@jupyter-widgets/base",
            "_model_module_version": "1.2.0",
            "_model_name": "LayoutModel",
            "_view_count": null,
            "_view_module": "@jupyter-widgets/base",
            "_view_module_version": "1.2.0",
            "_view_name": "LayoutView",
            "align_content": null,
            "align_items": null,
            "align_self": null,
            "border": null,
            "bottom": null,
            "display": null,
            "flex": null,
            "flex_flow": null,
            "grid_area": null,
            "grid_auto_columns": null,
            "grid_auto_flow": null,
            "grid_auto_rows": null,
            "grid_column": null,
            "grid_gap": null,
            "grid_row": null,
            "grid_template_areas": null,
            "grid_template_columns": null,
            "grid_template_rows": null,
            "height": null,
            "justify_content": null,
            "justify_items": null,
            "left": null,
            "margin": null,
            "max_height": null,
            "max_width": null,
            "min_height": null,
            "min_width": null,
            "object_fit": null,
            "object_position": null,
            "order": null,
            "overflow": null,
            "overflow_x": null,
            "overflow_y": null,
            "padding": null,
            "right": null,
            "top": null,
            "visibility": null,
            "width": null
          }
        },
        "f702522549c148cd91dd0fb850c65305": {
          "model_module": "@jupyter-widgets/controls",
          "model_module_version": "1.5.0",
          "model_name": "DescriptionStyleModel",
          "state": {
            "_model_module": "@jupyter-widgets/controls",
            "_model_module_version": "1.5.0",
            "_model_name": "DescriptionStyleModel",
            "_view_count": null,
            "_view_module": "@jupyter-widgets/base",
            "_view_module_version": "1.2.0",
            "_view_name": "StyleView",
            "description_width": ""
          }
        }
      }
    }
  },
  "nbformat": 4,
  "nbformat_minor": 0
}
