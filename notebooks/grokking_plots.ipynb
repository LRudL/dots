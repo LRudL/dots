{
 "cells": [
  {
   "cell_type": "code",
   "execution_count": 1,
   "metadata": {},
   "outputs": [],
   "source": [
    "%load_ext autoreload\n",
    "%autoreload 2\n",
    "import sys\n",
    "sys.path.append(\"..\")\n",
    "import math\n",
    "import numpy as np\n",
    "import torch as t\n",
    "import torch.utils.data as tdata\n",
    "import matplotlib.pyplot as plt\n",
    "from einops import rearrange\n",
    "from dots.training import *\n",
    "from dots.trainhooks import *\n",
    "from dots.models import MLP\n",
    "from dots.dots import *\n",
    "from dots.utils import get_device\n",
    "from dots.plotting import *"
   ]
  },
  {
   "cell_type": "code",
   "execution_count": 2,
   "metadata": {},
   "outputs": [],
   "source": [
    "import random\n",
    "import time\n",
    "from pathlib import Path\n",
    "import pickle\n",
    "import os\n",
    "import copy\n",
    "from collections import OrderedDict\n",
    "import functools\n",
    "import itertools\n",
    "import gc\n",
    "\n",
    "import numpy as np\n",
    "import matplotlib.pyplot as plt\n",
    "import einops\n",
    "import torch\n",
    "import torch.nn as nn\n",
    "import torch.nn.functional as F\n",
    "import torch.optim as optim\n",
    "from torch.utils.data import DataLoader\n",
    "from tqdm.notebook import tqdm, trange\n",
    "import plotly.express as px\n",
    "import plotly.io as pio\n",
    "import plotly.graph_objects as go\n",
    "import pandas as pd\n",
    "\n"
   ]
  },
  {
   "cell_type": "code",
   "execution_count": 3,
   "metadata": {},
   "outputs": [],
   "source": [
    "DEVICE = torch.device(\"cuda\" if torch.cuda.is_available() else \"cpu\")"
   ]
  },
  {
   "cell_type": "code",
   "execution_count": 4,
   "metadata": {},
   "outputs": [],
   "source": [
    "lr=1e-3 #@param\n",
    "weight_decay = 0.1 #@param \n",
    "p=113 #@param\n",
    "d_model = 128 #@param\n",
    "fn_name = 'add' #@param ['add', 'subtract', 'x2xyy2','rand']\n",
    "frac_train = 0.3 #@param\n",
    "NUM_EPOCHS = 100000 #@param\n",
    "save_models = False #@param\n",
    "save_every = 1000 #@param\n",
    "# Stop training when test loss is <stopping_thresh\n",
    "stopping_thresh = -1 #@param\n",
    "seed = 0 #@param\n",
    "num_layers = 1\n",
    "batch_style = 'full'\n",
    "d_vocab = p+1 \n",
    "n_ctx = 3\n",
    "d_mlp = 4*d_model\n",
    "num_heads = 4\n",
    "assert d_model % num_heads == 0\n",
    "d_head = d_model//num_heads\n",
    "act_type = 'ReLU' #@param ['ReLU', 'GeLU']\n",
    "#batch_size = BATCH_SIZE"
   ]
  },
  {
   "cell_type": "code",
   "execution_count": 5,
   "metadata": {},
   "outputs": [
    {
     "name": "stdout",
     "output_type": "stream",
     "text": [
      "3830 8939\n"
     ]
    }
   ],
   "source": [
    "def gen_train_test(frac_train = 0.3, num = 113, seed=0):\n",
    "    # Generate train and test split\n",
    "    pairs = [(i, j, num) for i in range(num) for j in range(num)]\n",
    "    random.seed(seed)\n",
    "    random.shuffle(pairs)\n",
    "    div = int(frac_train*len(pairs))\n",
    "    return pairs[:div], pairs[div:]\n",
    "\n",
    "train_x, test_x = gen_train_test(frac_train, 113, seed=0)\n",
    "print(len(train_x), len(test_x))"
   ]
  },
  {
   "cell_type": "code",
   "execution_count": 6,
   "metadata": {},
   "outputs": [
    {
     "data": {
      "text/plain": [
       "(50, 67, 113)"
      ]
     },
     "execution_count": 6,
     "metadata": {},
     "output_type": "execute_result"
    }
   ],
   "source": [
    "test_x[0]"
   ]
  },
  {
   "cell_type": "code",
   "execution_count": 7,
   "metadata": {},
   "outputs": [
    {
     "name": "stdout",
     "output_type": "stream",
     "text": [
      "1\n",
      "tensor([[ 18,  34, 113],\n",
      "        [ 10,  83, 113],\n",
      "        [ 55,  28, 113],\n",
      "        [ 25,  51, 113],\n",
      "        [ 63,  65, 113],\n",
      "        [ 14, 104, 113],\n",
      "        [ 27,  56, 113],\n",
      "        [ 35,  77, 113],\n",
      "        [ 41,  72, 113],\n",
      "        [ 17, 111, 113]], device='cuda:0')\n",
      "tensor([ 52,  93,  83,  76,  15,   5,  83, 112,   0,  15], device='cuda:0')\n"
     ]
    }
   ],
   "source": [
    "def collate_batch(batch):\n",
    "    label_list = [(i+j) % num for (i,j,num) in batch]\n",
    "    label_list = torch.tensor(label_list, dtype=torch.int64)\n",
    "    input_list = [torch.tensor(x) for x in batch]\n",
    "    input_list = torch.cat(input_list).view(len(label_list), -1)\n",
    "    return input_list.to(DEVICE), label_list.to(DEVICE)\n",
    "\n",
    "# one batch per loader\n",
    "train_loader = DataLoader(train_x, batch_size=len(train_x), collate_fn=collate_batch)\n",
    "test_loader = DataLoader(test_x, batch_size=len(test_x), collate_fn=collate_batch)\n",
    "\n",
    "print(len(train_loader))\n",
    "for x, y in train_loader:\n",
    "    print(x[:10])\n",
    "    print(y[:10])"
   ]
  },
  {
   "cell_type": "code",
   "execution_count": 8,
   "metadata": {},
   "outputs": [],
   "source": [
    "batch = next(iter(train_loader))\n",
    "batch_x = batch[0]\n",
    "batch_y = batch[1]"
   ]
  },
  {
   "cell_type": "code",
   "execution_count": 9,
   "metadata": {},
   "outputs": [
    {
     "data": {
      "text/plain": [
       "torch.Size([3830, 3])"
      ]
     },
     "execution_count": 9,
     "metadata": {},
     "output_type": "execute_result"
    }
   ],
   "source": [
    "batch_x.shape"
   ]
  },
  {
   "cell_type": "code",
   "execution_count": 10,
   "metadata": {},
   "outputs": [
    {
     "data": {
      "text/plain": [
       "tensor([ 18,  34, 113], device='cuda:0')"
      ]
     },
     "execution_count": 10,
     "metadata": {},
     "output_type": "execute_result"
    }
   ],
   "source": [
    "batch_x[0]"
   ]
  },
  {
   "cell_type": "code",
   "execution_count": 11,
   "metadata": {},
   "outputs": [],
   "source": [
    "train_x = next(iter(train_loader))[0]\n",
    "test_x = next(iter(test_loader))[0]"
   ]
  },
  {
   "cell_type": "code",
   "execution_count": 12,
   "metadata": {},
   "outputs": [
    {
     "name": "stdout",
     "output_type": "stream",
     "text": [
      "torch.Size([3830, 3])\n",
      "torch.Size([8939, 3])\n"
     ]
    }
   ],
   "source": [
    "print(train_x.shape)\n",
    "print(test_x.shape)"
   ]
  },
  {
   "attachments": {},
   "cell_type": "markdown",
   "metadata": {},
   "source": [
    "# Load models"
   ]
  },
  {
   "cell_type": "code",
   "execution_count": 13,
   "metadata": {},
   "outputs": [],
   "source": [
    "mnames = [\n",
    "    f\"grok_{prepend_zeros(i * 1000, 5)}\"\n",
    "    for i in range(0, 100)\n",
    "]\n",
    "models = [\n",
    "    load_model(name) for name in mnames\n",
    "]"
   ]
  },
  {
   "attachments": {},
   "cell_type": "markdown",
   "metadata": {},
   "source": [
    "# Best Jacobian method?"
   ]
  },
  {
   "cell_type": "code",
   "execution_count": 57,
   "metadata": {},
   "outputs": [],
   "source": [
    "s = 64\n",
    "model = models[0]"
   ]
  },
  {
   "cell_type": "code",
   "execution_count": 58,
   "metadata": {},
   "outputs": [
    {
     "data": {
      "text/plain": [
       "torch.Size([7296, 226816])"
      ]
     },
     "execution_count": 58,
     "metadata": {},
     "output_type": "execute_result"
    }
   ],
   "source": [
    "jac = model.matrix_jacobian(test_x[:s])\n",
    "jac.shape"
   ]
  },
  {
   "cell_type": "code",
   "execution_count": 59,
   "metadata": {},
   "outputs": [
    {
     "data": {
      "text/plain": [
       "tensor(1739, device='cuda:0')"
      ]
     },
     "execution_count": 59,
     "metadata": {},
     "output_type": "execute_result"
    }
   ],
   "source": [
    "t.linalg.matrix_rank(jac)"
   ]
  },
  {
   "attachments": {},
   "cell_type": "markdown",
   "metadata": {},
   "source": [
    "The below was with jac calculated when s = 128, and the fact that it's less than the above line is suspicious as hell:"
   ]
  },
  {
   "cell_type": "code",
   "execution_count": 56,
   "metadata": {},
   "outputs": [
    {
     "data": {
      "text/plain": [
       "tensor(753, device='cuda:0')"
      ]
     },
     "execution_count": 56,
     "metadata": {},
     "output_type": "execute_result"
    }
   ],
   "source": [
    "t.linalg.matrix_rank(jac @ jac.T)"
   ]
  },
  {
   "cell_type": "code",
   "execution_count": 43,
   "metadata": {},
   "outputs": [
    {
     "name": "stderr",
     "output_type": "stream",
     "text": [
      "/home/lrl34/.conda/envs/dots/lib/python3.10/site-packages/torch/nn/utils/stateless.py:216: UserWarning: This API is deprecated as of PyTorch 2.0 and will be removed in a future version of PyTorch. Please use torch.func.functional_call instead which is a drop-in replacement for this API.\n",
      "  warnings.warn(\n"
     ]
    }
   ],
   "source": [
    "U, S, V = model.jacobian_svd(test_x[:s])"
   ]
  },
  {
   "cell_type": "code",
   "execution_count": 46,
   "metadata": {},
   "outputs": [
    {
     "data": {
      "text/plain": [
       "torch.Size([7296, 7296])"
      ]
     },
     "execution_count": 46,
     "metadata": {},
     "output_type": "execute_result"
    }
   ],
   "source": [
    "U.shape"
   ]
  },
  {
   "cell_type": "code",
   "execution_count": 47,
   "metadata": {},
   "outputs": [
    {
     "data": {
      "text/plain": [
       "torch.Size([7296])"
      ]
     },
     "execution_count": 47,
     "metadata": {},
     "output_type": "execute_result"
    }
   ],
   "source": [
    "S.shape"
   ]
  },
  {
   "cell_type": "code",
   "execution_count": 49,
   "metadata": {},
   "outputs": [
    {
     "data": {
      "text/plain": [
       "torch.Size([7296, 226816])"
      ]
     },
     "execution_count": 49,
     "metadata": {},
     "output_type": "execute_result"
    }
   ],
   "source": [
    "V.shape"
   ]
  },
  {
   "cell_type": "code",
   "execution_count": 52,
   "metadata": {},
   "outputs": [
    {
     "data": {
      "image/png": "[encoded data removed]",
      "text/plain": [
       "<Figure size 640x480 with 1 Axes>"
      ]
     },
     "metadata": {},
     "output_type": "display_data"
    }
   ],
   "source": [
    "plt.plot(S.cpu())\n",
    "plt.yscale(\"log\")"
   ]
  },
  {
   "attachments": {},
   "cell_type": "markdown",
   "metadata": {},
   "source": [
    "TENTATIVE CONCLUSION: use 64 elements for calculating ranks"
   ]
  },
  {
   "attachments": {},
   "cell_type": "markdown",
   "metadata": {},
   "source": [
    "# Calculating ranks using a small number of test/train elements"
   ]
  },
  {
   "attachments": {},
   "cell_type": "markdown",
   "metadata": {},
   "source": [
    "## Test"
   ]
  },
  {
   "cell_type": "code",
   "execution_count": 15,
   "metadata": {},
   "outputs": [],
   "source": [
    "from tqdm.notebook import tqdm"
   ]
  },
  {
   "cell_type": "code",
   "execution_count": 16,
   "metadata": {},
   "outputs": [
    {
     "data": {
      "application/vnd.jupyter.widget-view+json": {
       "model_id": "d1db8887d6e0410d9dd8859f94350196",
       "version_major": 2,
       "version_minor": 0
      },
      "text/plain": [
       "  0%|          | 0/100 [00:00<?, ?it/s]"
      ]
     },
     "metadata": {},
     "output_type": "display_data"
    },
    {
     "name": "stderr",
     "output_type": "stream",
     "text": [
      "/home/lrl34/.conda/envs/dots/lib/python3.10/site-packages/torch/nn/utils/stateless.py:216: UserWarning: This API is deprecated as of PyTorch 2.0 and will be removed in a future version of PyTorch. Please use torch.func.functional_call instead which is a drop-in replacement for this API.\n",
      "  warnings.warn(\n"
     ]
    }
   ],
   "source": [
    "ranks = []\n",
    "\n",
    "for model in tqdm(models):\n",
    "    ranks.append(\n",
    "        model.jacobian_matrix_rank(test_x[:64])\n",
    "    ) "
   ]
  },
  {
   "cell_type": "code",
   "execution_count": 24,
   "metadata": {},
   "outputs": [],
   "source": [
    "t.save([rank.item() for rank in ranks], \"grok_ranks_test64.pt\")"
   ]
  },
  {
   "cell_type": "code",
   "execution_count": 27,
   "metadata": {},
   "outputs": [
    {
     "data": {
      "text/plain": [
       "[1739,\n",
       " 4417,\n",
       " 4540,\n",
       " 4682,\n",
       " 4835,\n",
       " 4985,\n",
       " 5124,\n",
       " 5244,\n",
       " 5315,\n",
       " 5379,\n",
       " 5421,\n",
       " 5452,\n",
       " 5478,\n",
       " 5486,\n",
       " 5483,\n",
       " 5474,\n",
       " 5471,\n",
       " 5463,\n",
       " 5453,\n",
       " 5427,\n",
       " 5399,\n",
       " 5372,\n",
       " 5340,\n",
       " 5318,\n",
       " 5304,\n",
       " 5286,\n",
       " 5265,\n",
       " 5246,\n",
       " 5223,\n",
       " 5198,\n",
       " 5167,\n",
       " 5135,\n",
       " 5126,\n",
       " 5101,\n",
       " 5079,\n",
       " 5071,\n",
       " 5045,\n",
       " 5007,\n",
       " 4980,\n",
       " 4950,\n",
       " 4908,\n",
       " 4865,\n",
       " 4846,\n",
       " 4781,\n",
       " 4724,\n",
       " 4660,\n",
       " 4610,\n",
       " 4538,\n",
       " 4487,\n",
       " 4421,\n",
       " 4353,\n",
       " 4254,\n",
       " 4154,\n",
       " 4056,\n",
       " 3946,\n",
       " 3839,\n",
       " 3678,\n",
       " 3510,\n",
       " 3348,\n",
       " 3149,\n",
       " 2929,\n",
       " 2708,\n",
       " 2443,\n",
       " 2261,\n",
       " 2127,\n",
       " 2032,\n",
       " 1944,\n",
       " 1888,\n",
       " 1821,\n",
       " 1766,\n",
       " 1724,\n",
       " 1707,\n",
       " 1671,\n",
       " 1640,\n",
       " 1613,\n",
       " 1602,\n",
       " 1594,\n",
       " 1579,\n",
       " 1573,\n",
       " 1558,\n",
       " 1535,\n",
       " 1526,\n",
       " 1558,\n",
       " 1545,\n",
       " 1537,\n",
       " 1528,\n",
       " 1518,\n",
       " 1512,\n",
       " 1505,\n",
       " 1500,\n",
       " 1472,\n",
       " 1423,\n",
       " 1405,\n",
       " 1392,\n",
       " 1384,\n",
       " 1377,\n",
       " 1377,\n",
       " 1376,\n",
       " 1374,\n",
       " 1372]"
      ]
     },
     "execution_count": 27,
     "metadata": {},
     "output_type": "execute_result"
    }
   ],
   "source": [
    "t.load(\"grok_ranks_test64.pt\")"
   ]
  },
  {
   "attachments": {},
   "cell_type": "markdown",
   "metadata": {},
   "source": [
    "## Train"
   ]
  },
  {
   "cell_type": "code",
   "execution_count": 14,
   "metadata": {},
   "outputs": [
    {
     "data": {
      "application/vnd.jupyter.widget-view+json": {
       "model_id": "14e5fd09719546b99c6383be0ee8d1e0",
       "version_major": 2,
       "version_minor": 0
      },
      "text/plain": [
       "  0%|          | 0/100 [00:00<?, ?it/s]"
      ]
     },
     "metadata": {},
     "output_type": "display_data"
    },
    {
     "name": "stderr",
     "output_type": "stream",
     "text": [
      "/home/lrl34/.conda/envs/dots/lib/python3.10/site-packages/torch/nn/utils/stateless.py:216: UserWarning: This API is deprecated as of PyTorch 2.0 and will be removed in a future version of PyTorch. Please use torch.func.functional_call instead which is a drop-in replacement for this API.\n",
      "  warnings.warn(\n"
     ]
    }
   ],
   "source": [
    "train_ranks = []\n",
    "\n",
    "for model in tqdm(models):\n",
    "    train_ranks.append(\n",
    "        model.jacobian_matrix_rank(train_x[:64]).item()\n",
    "    ) "
   ]
  },
  {
   "cell_type": "code",
   "execution_count": 15,
   "metadata": {},
   "outputs": [],
   "source": [
    "t.save(train_ranks, \"grok_ranks_train64.pt\")"
   ]
  },
  {
   "cell_type": "code",
   "execution_count": 16,
   "metadata": {},
   "outputs": [
    {
     "data": {
      "text/plain": [
       "[1748,\n",
       " 4590,\n",
       " 4756,\n",
       " 4883,\n",
       " 5043,\n",
       " 5172,\n",
       " 5288,\n",
       " 5385,\n",
       " 5460,\n",
       " 5510,\n",
       " 5536,\n",
       " 5550,\n",
       " 5568,\n",
       " 5562,\n",
       " 5540,\n",
       " 5527,\n",
       " 5497,\n",
       " 5476,\n",
       " 5455,\n",
       " 5438,\n",
       " 5422,\n",
       " 5401,\n",
       " 5392,\n",
       " 5371,\n",
       " 5344,\n",
       " 5320,\n",
       " 5286,\n",
       " 5270,\n",
       " 5236,\n",
       " 5221,\n",
       " 5196,\n",
       " 5178,\n",
       " 5149,\n",
       " 5108,\n",
       " 5075,\n",
       " 5054,\n",
       " 5020,\n",
       " 5007,\n",
       " 4969,\n",
       " 4930,\n",
       " 4878,\n",
       " 4856,\n",
       " 4825,\n",
       " 4774,\n",
       " 4716,\n",
       " 4678,\n",
       " 4608,\n",
       " 4543,\n",
       " 4455,\n",
       " 4380,\n",
       " 4291,\n",
       " 4190,\n",
       " 4083,\n",
       " 3942,\n",
       " 3800,\n",
       " 3635,\n",
       " 3448,\n",
       " 3301,\n",
       " 3121,\n",
       " 2927,\n",
       " 2746,\n",
       " 2530,\n",
       " 2322,\n",
       " 2149,\n",
       " 2021,\n",
       " 1920,\n",
       " 1880,\n",
       " 1842,\n",
       " 1800,\n",
       " 1780,\n",
       " 1753,\n",
       " 1723,\n",
       " 1724,\n",
       " 1718,\n",
       " 1695,\n",
       " 1671,\n",
       " 1644,\n",
       " 1626,\n",
       " 1607,\n",
       " 1595,\n",
       " 1577,\n",
       " 1562,\n",
       " 1552,\n",
       " 1541,\n",
       " 1535,\n",
       " 1528,\n",
       " 1521,\n",
       " 1514,\n",
       " 1506,\n",
       " 1504,\n",
       " 1498,\n",
       " 1443,\n",
       " 1415,\n",
       " 1401,\n",
       " 1391,\n",
       " 1385,\n",
       " 1380,\n",
       " 1377,\n",
       " 1375,\n",
       " 1373]"
      ]
     },
     "execution_count": 16,
     "metadata": {},
     "output_type": "execute_result"
    }
   ],
   "source": [
    "t.load(\"grok_ranks_train64.pt\")"
   ]
  },
  {
   "cell_type": "code",
   "execution_count": null,
   "metadata": {},
   "outputs": [],
   "source": []
  }
 ],
 "metadata": {
  "kernelspec": {
   "display_name": "dots",
   "language": "python",
   "name": "python3"
  },
  "language_info": {
   "codemirror_mode": {
    "name": "ipython",
    "version": 3
   },
   "file_extension": ".py",
   "mimetype": "text/x-python",
   "name": "python",
   "nbconvert_exporter": "python",
   "pygments_lexer": "ipython3",
   "version": "3.10.4"
  },
  "orig_nbformat": 4
 },
 "nbformat": 4,
 "nbformat_minor": 2
}
